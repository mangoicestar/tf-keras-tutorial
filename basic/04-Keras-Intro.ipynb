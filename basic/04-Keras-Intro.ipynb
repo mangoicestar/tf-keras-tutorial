{
 "cells": [
  {
   "cell_type": "code",
   "execution_count": 1,
   "metadata": {
    "collapsed": true
   },
   "outputs": [],
   "source": [
    "# windows only hack for graphviz path \n",
    "import os\n",
    "for path in os.environ['PATH'].split(os.pathsep):\n",
    "    if path.endswith(\"Library\\\\bin\"):\n",
    "        os.environ['PATH']+=os.pathsep+os.path.join(path, 'graphviz')"
   ]
  },
  {
   "cell_type": "code",
   "execution_count": 2,
   "metadata": {
    "collapsed": true
   },
   "outputs": [],
   "source": [
    "#os.environ['KERAS_BACKEND']='tensorflow'\n",
    "os.environ['KERAS_BACKEND']='theano'\n",
    "#os.environ['THEANO_FLAGS']='floatX=float32, device=cuda'"
   ]
  },
  {
   "cell_type": "code",
   "execution_count": 3,
   "metadata": {},
   "outputs": [
    {
     "name": "stderr",
     "output_type": "stream",
     "text": [
      "Using Theano backend.\n"
     ]
    }
   ],
   "source": [
    "import keras\n",
    "from keras.models import Sequential\n",
    "from PIL import Image\n",
    "import numpy as np"
   ]
  },
  {
   "cell_type": "code",
   "execution_count": 4,
   "metadata": {
    "collapsed": true
   },
   "outputs": [],
   "source": [
    "import lzma\n",
    "import pickle\n",
    "with lzma.open(\"mnist.pkl.xz\", 'rb') as f:\n",
    "    train_set, validation_set, test_set = pickle.load(f, encoding='latin1')\n",
    "train_X, train_y = train_set\n",
    "validation_X, validation_y = validation_set\n",
    "test_X, test_y = test_set\n",
    "\n"
   ]
  },
  {
   "cell_type": "markdown",
   "metadata": {},
   "source": [
    "#keras的one hot function\n",
    "train_Y=keras.utils.to_categorical(train_y[:10],10)\n",
    "validation_Y=keras.utils.to_categorical(validation_y[:10],10)\n",
    "test_Y=keras.utils.to_categorical(test_Y[:10],10)"
   ]
  },
  {
   "cell_type": "code",
   "execution_count": 5,
   "metadata": {
    "collapsed": true
   },
   "outputs": [],
   "source": [
    "\n",
    "train_Y = np.eye(10)[train_y]\n",
    "test_Y = np.eye(10)[test_y]\n",
    "validation_Y = np.eye(10)[validation_y]\n",
    "\n",
    "# or\n",
    "# from keras.datasets import mnist\n",
    "# from keras.utils import np_utils\n",
    "# (train_X, train_y), (test_X, test_y) = mnist.load_data()\n",
    "# train_Y = np_utils.to_categorical(train_y, 10)\n",
    "# test_Y = np_utils.to_categorical(test_y, 10)"
   ]
  },
  {
   "cell_type": "markdown",
   "metadata": {},
   "source": [
    "### logistic regression"
   ]
  },
  {
   "cell_type": "code",
   "execution_count": 45,
   "metadata": {
    "collapsed": true
   },
   "outputs": [],
   "source": [
    "from keras.layers import Dense, Activation\n",
    "model = Sequential()\n",
    "model.add(Dense(units=100, input_dim=784)) #units是輸出的維度, input_dim是輸入維度\n",
    "model.add(Activation('relu'))\n",
    "model.add(Dense(units=10, input_dim=100)) #units是輸出的維度, input_dim是輸入維度\n",
    "model.add(Activation('softmax'))"
   ]
  },
  {
   "cell_type": "code",
   "execution_count": 46,
   "metadata": {
    "collapsed": true
   },
   "outputs": [],
   "source": [
    "model.compile(loss='categorical_crossentropy',  \n",
    "              optimizer='adam',\n",
    "              metrics=['accuracy'])\n",
    "\n"
   ]
  },
  {
   "cell_type": "code",
   "execution_count": 47,
   "metadata": {},
   "outputs": [
    {
     "data": {
      "image/svg+xml": [
       "<svg height=\"377pt\" viewBox=\"0.00 0.00 314.56 377.00\" width=\"315pt\" xmlns=\"http://www.w3.org/2000/svg\" xmlns:xlink=\"http://www.w3.org/1999/xlink\">\n",
       "<g class=\"graph\" id=\"graph0\" transform=\"scale(1 1) rotate(0) translate(4 373)\">\n",
       "<title>G</title>\n",
       "<polygon fill=\"white\" points=\"-4,4 -4,-373 310.556,-373 310.556,4 -4,4\" stroke=\"none\"/>\n",
       "<!-- 5006708808 -->\n",
       "<g class=\"node\" id=\"node1\"><title>5006708808</title>\n",
       "<polygon fill=\"none\" points=\"0,-324.5 0,-368.5 306.556,-368.5 306.556,-324.5 0,-324.5\" stroke=\"black\"/>\n",
       "<text font-family=\"Times,serif\" font-size=\"14.00\" text-anchor=\"middle\" x=\"83.6191\" y=\"-342.3\">dense_8_input: InputLayer</text>\n",
       "<polyline fill=\"none\" points=\"167.238,-324.5 167.238,-368.5 \" stroke=\"black\"/>\n",
       "<text font-family=\"Times,serif\" font-size=\"14.00\" text-anchor=\"middle\" x=\"195.073\" y=\"-353.3\">input:</text>\n",
       "<polyline fill=\"none\" points=\"167.238,-346.5 222.907,-346.5 \" stroke=\"black\"/>\n",
       "<text font-family=\"Times,serif\" font-size=\"14.00\" text-anchor=\"middle\" x=\"195.073\" y=\"-331.3\">output:</text>\n",
       "<polyline fill=\"none\" points=\"222.907,-324.5 222.907,-368.5 \" stroke=\"black\"/>\n",
       "<text font-family=\"Times,serif\" font-size=\"14.00\" text-anchor=\"middle\" x=\"264.731\" y=\"-353.3\">(None, 784)</text>\n",
       "<polyline fill=\"none\" points=\"222.907,-346.5 306.556,-346.5 \" stroke=\"black\"/>\n",
       "<text font-family=\"Times,serif\" font-size=\"14.00\" text-anchor=\"middle\" x=\"264.731\" y=\"-331.3\">(None, 784)</text>\n",
       "</g>\n",
       "<!-- 5006717672 -->\n",
       "<g class=\"node\" id=\"node2\"><title>5006717672</title>\n",
       "<polygon fill=\"none\" points=\"31.4932,-243.5 31.4932,-287.5 275.062,-287.5 275.062,-243.5 31.4932,-243.5\" stroke=\"black\"/>\n",
       "<text font-family=\"Times,serif\" font-size=\"14.00\" text-anchor=\"middle\" x=\"83.6191\" y=\"-261.3\">dense_8: Dense</text>\n",
       "<polyline fill=\"none\" points=\"135.745,-243.5 135.745,-287.5 \" stroke=\"black\"/>\n",
       "<text font-family=\"Times,serif\" font-size=\"14.00\" text-anchor=\"middle\" x=\"163.58\" y=\"-272.3\">input:</text>\n",
       "<polyline fill=\"none\" points=\"135.745,-265.5 191.414,-265.5 \" stroke=\"black\"/>\n",
       "<text font-family=\"Times,serif\" font-size=\"14.00\" text-anchor=\"middle\" x=\"163.58\" y=\"-250.3\">output:</text>\n",
       "<polyline fill=\"none\" points=\"191.414,-243.5 191.414,-287.5 \" stroke=\"black\"/>\n",
       "<text font-family=\"Times,serif\" font-size=\"14.00\" text-anchor=\"middle\" x=\"233.238\" y=\"-272.3\">(None, 784)</text>\n",
       "<polyline fill=\"none\" points=\"191.414,-265.5 275.062,-265.5 \" stroke=\"black\"/>\n",
       "<text font-family=\"Times,serif\" font-size=\"14.00\" text-anchor=\"middle\" x=\"233.238\" y=\"-250.3\">(None, 100)</text>\n",
       "</g>\n",
       "<!-- 5006708808&#45;&gt;5006717672 -->\n",
       "<g class=\"edge\" id=\"edge1\"><title>5006708808-&gt;5006717672</title>\n",
       "<path d=\"M153.278,-324.329C153.278,-316.183 153.278,-306.699 153.278,-297.797\" fill=\"none\" stroke=\"black\"/>\n",
       "<polygon fill=\"black\" points=\"156.778,-297.729 153.278,-287.729 149.778,-297.729 156.778,-297.729\" stroke=\"black\"/>\n",
       "</g>\n",
       "<!-- 5006717056 -->\n",
       "<g class=\"node\" id=\"node3\"><title>5006717056</title>\n",
       "<polygon fill=\"none\" points=\"8.15869,-162.5 8.15869,-206.5 298.397,-206.5 298.397,-162.5 8.15869,-162.5\" stroke=\"black\"/>\n",
       "<text font-family=\"Times,serif\" font-size=\"14.00\" text-anchor=\"middle\" x=\"83.6191\" y=\"-180.3\">activation_6: Activation</text>\n",
       "<polyline fill=\"none\" points=\"159.08,-162.5 159.08,-206.5 \" stroke=\"black\"/>\n",
       "<text font-family=\"Times,serif\" font-size=\"14.00\" text-anchor=\"middle\" x=\"186.914\" y=\"-191.3\">input:</text>\n",
       "<polyline fill=\"none\" points=\"159.08,-184.5 214.749,-184.5 \" stroke=\"black\"/>\n",
       "<text font-family=\"Times,serif\" font-size=\"14.00\" text-anchor=\"middle\" x=\"186.914\" y=\"-169.3\">output:</text>\n",
       "<polyline fill=\"none\" points=\"214.749,-162.5 214.749,-206.5 \" stroke=\"black\"/>\n",
       "<text font-family=\"Times,serif\" font-size=\"14.00\" text-anchor=\"middle\" x=\"256.573\" y=\"-191.3\">(None, 100)</text>\n",
       "<polyline fill=\"none\" points=\"214.749,-184.5 298.397,-184.5 \" stroke=\"black\"/>\n",
       "<text font-family=\"Times,serif\" font-size=\"14.00\" text-anchor=\"middle\" x=\"256.573\" y=\"-169.3\">(None, 100)</text>\n",
       "</g>\n",
       "<!-- 5006717672&#45;&gt;5006717056 -->\n",
       "<g class=\"edge\" id=\"edge2\"><title>5006717672-&gt;5006717056</title>\n",
       "<path d=\"M153.278,-243.329C153.278,-235.183 153.278,-225.699 153.278,-216.797\" fill=\"none\" stroke=\"black\"/>\n",
       "<polygon fill=\"black\" points=\"156.778,-216.729 153.278,-206.729 149.778,-216.729 156.778,-216.729\" stroke=\"black\"/>\n",
       "</g>\n",
       "<!-- 5006709704 -->\n",
       "<g class=\"node\" id=\"node4\"><title>5006709704</title>\n",
       "<polygon fill=\"none\" points=\"31.4932,-81.5 31.4932,-125.5 275.062,-125.5 275.062,-81.5 31.4932,-81.5\" stroke=\"black\"/>\n",
       "<text font-family=\"Times,serif\" font-size=\"14.00\" text-anchor=\"middle\" x=\"83.6191\" y=\"-99.3\">dense_9: Dense</text>\n",
       "<polyline fill=\"none\" points=\"135.745,-81.5 135.745,-125.5 \" stroke=\"black\"/>\n",
       "<text font-family=\"Times,serif\" font-size=\"14.00\" text-anchor=\"middle\" x=\"163.58\" y=\"-110.3\">input:</text>\n",
       "<polyline fill=\"none\" points=\"135.745,-103.5 191.414,-103.5 \" stroke=\"black\"/>\n",
       "<text font-family=\"Times,serif\" font-size=\"14.00\" text-anchor=\"middle\" x=\"163.58\" y=\"-88.3\">output:</text>\n",
       "<polyline fill=\"none\" points=\"191.414,-81.5 191.414,-125.5 \" stroke=\"black\"/>\n",
       "<text font-family=\"Times,serif\" font-size=\"14.00\" text-anchor=\"middle\" x=\"233.238\" y=\"-110.3\">(None, 100)</text>\n",
       "<polyline fill=\"none\" points=\"191.414,-103.5 275.062,-103.5 \" stroke=\"black\"/>\n",
       "<text font-family=\"Times,serif\" font-size=\"14.00\" text-anchor=\"middle\" x=\"233.238\" y=\"-88.3\">(None, 10)</text>\n",
       "</g>\n",
       "<!-- 5006717056&#45;&gt;5006709704 -->\n",
       "<g class=\"edge\" id=\"edge3\"><title>5006717056-&gt;5006709704</title>\n",
       "<path d=\"M153.278,-162.329C153.278,-154.183 153.278,-144.699 153.278,-135.797\" fill=\"none\" stroke=\"black\"/>\n",
       "<polygon fill=\"black\" points=\"156.778,-135.729 153.278,-125.729 149.778,-135.729 156.778,-135.729\" stroke=\"black\"/>\n",
       "</g>\n",
       "<!-- 5006710320 -->\n",
       "<g class=\"node\" id=\"node5\"><title>5006710320</title>\n",
       "<polygon fill=\"none\" points=\"11.6587,-0.5 11.6587,-44.5 294.897,-44.5 294.897,-0.5 11.6587,-0.5\" stroke=\"black\"/>\n",
       "<text font-family=\"Times,serif\" font-size=\"14.00\" text-anchor=\"middle\" x=\"87.1191\" y=\"-18.3\">activation_7: Activation</text>\n",
       "<polyline fill=\"none\" points=\"162.58,-0.5 162.58,-44.5 \" stroke=\"black\"/>\n",
       "<text font-family=\"Times,serif\" font-size=\"14.00\" text-anchor=\"middle\" x=\"190.414\" y=\"-29.3\">input:</text>\n",
       "<polyline fill=\"none\" points=\"162.58,-22.5 218.249,-22.5 \" stroke=\"black\"/>\n",
       "<text font-family=\"Times,serif\" font-size=\"14.00\" text-anchor=\"middle\" x=\"190.414\" y=\"-7.3\">output:</text>\n",
       "<polyline fill=\"none\" points=\"218.249,-0.5 218.249,-44.5 \" stroke=\"black\"/>\n",
       "<text font-family=\"Times,serif\" font-size=\"14.00\" text-anchor=\"middle\" x=\"256.573\" y=\"-29.3\">(None, 10)</text>\n",
       "<polyline fill=\"none\" points=\"218.249,-22.5 294.897,-22.5 \" stroke=\"black\"/>\n",
       "<text font-family=\"Times,serif\" font-size=\"14.00\" text-anchor=\"middle\" x=\"256.573\" y=\"-7.3\">(None, 10)</text>\n",
       "</g>\n",
       "<!-- 5006709704&#45;&gt;5006710320 -->\n",
       "<g class=\"edge\" id=\"edge4\"><title>5006709704-&gt;5006710320</title>\n",
       "<path d=\"M153.278,-81.3294C153.278,-73.1826 153.278,-63.6991 153.278,-54.7971\" fill=\"none\" stroke=\"black\"/>\n",
       "<polygon fill=\"black\" points=\"156.778,-54.729 153.278,-44.729 149.778,-54.729 156.778,-54.729\" stroke=\"black\"/>\n",
       "</g>\n",
       "</g>\n",
       "</svg>"
      ],
      "text/plain": [
       "<IPython.core.display.SVG object>"
      ]
     },
     "execution_count": 47,
     "metadata": {},
     "output_type": "execute_result"
    }
   ],
   "source": [
    "from IPython.display import SVG, display\n",
    "from keras.utils.vis_utils import model_to_dot\n",
    "\n",
    "SVG(model_to_dot(model, show_shapes=True).create(prog='dot', format='svg'))"
   ]
  },
  {
   "cell_type": "code",
   "execution_count": 48,
   "metadata": {},
   "outputs": [
    {
     "name": "stdout",
     "output_type": "stream",
     "text": [
      "Train on 50000 samples, validate on 10000 samples\n",
      "Epoch 1/3\n",
      "50000/50000 [==============================] - 2s - loss: 0.4180 - acc: 0.8861 - val_loss: 0.2212 - val_acc: 0.9390\n",
      "Epoch 2/3\n",
      "50000/50000 [==============================] - 2s - loss: 0.1999 - acc: 0.9431 - val_loss: 0.1607 - val_acc: 0.9565\n",
      "Epoch 3/3\n",
      "50000/50000 [==============================] - 2s - loss: 0.1486 - acc: 0.9575 - val_loss: 0.1324 - val_acc: 0.9614\n"
     ]
    },
    {
     "data": {
      "text/plain": [
       "<keras.callbacks.History at 0x12b5a0f60>"
      ]
     },
     "execution_count": 48,
     "metadata": {},
     "output_type": "execute_result"
    }
   ],
   "source": [
    "model.fit(train_X, train_Y, validation_data=(validation_X, validation_Y), batch_size=128, epochs=3)"
   ]
  },
  {
   "cell_type": "code",
   "execution_count": 49,
   "metadata": {},
   "outputs": [
    {
     "name": "stdout",
     "output_type": "stream",
     "text": [
      "20/20 [==============================] - 0s\n"
     ]
    },
    {
     "data": {
      "text/plain": [
       "array([7, 2, 1, 0, 4, 1, 4, 9, 6, 9, 0, 6, 9, 0, 1, 5, 9, 7, 3, 4])"
      ]
     },
     "execution_count": 49,
     "metadata": {},
     "output_type": "execute_result"
    }
   ],
   "source": [
    "# 預測看看 test_X 前 20 筆\n",
    "model.predict_classes(test_X[:20])"
   ]
  },
  {
   "cell_type": "code",
   "execution_count": 38,
   "metadata": {},
   "outputs": [
    {
     "data": {
      "text/plain": [
       "array([7, 2, 1, 0, 4, 1, 4, 9, 5, 9, 0, 6, 9, 0, 1, 5, 9, 7, 3, 4])"
      ]
     },
     "execution_count": 38,
     "metadata": {},
     "output_type": "execute_result"
    }
   ],
   "source": [
    "# 對答案\n",
    "test_y[:20]"
   ]
  },
  {
   "cell_type": "code",
   "execution_count": 39,
   "metadata": {},
   "outputs": [
    {
     "name": "stdout",
     "output_type": "stream",
     "text": [
      " 9952/10000 [============================>.] - ETA: 0s"
     ]
    },
    {
     "data": {
      "text/plain": [
       "[0.23694744035303592, 0.93620000000000003]"
      ]
     },
     "execution_count": 39,
     "metadata": {},
     "output_type": "execute_result"
    }
   ],
   "source": [
    "# 看看 test accuracy\n",
    "model.evaluate(test_X, test_Y)"
   ]
  },
  {
   "cell_type": "markdown",
   "metadata": {},
   "source": [
    "## Q \n",
    "* 將 `optimizer` 換成 `\"adam\"`\n",
    "* 將 `optimizer` 換成 `keras.optimizers.SGD(lr=0.01, momentum=0.9, nesterov=True)`"
   ]
  },
  {
   "cell_type": "markdown",
   "metadata": {},
   "source": [
    "### 建立  convolutional model\n",
    "我們之前的網路架構\n",
    "* convolution 2d kernel=(3,3), filters=32\n",
    "* relu\n",
    "* max pool\n",
    "* convolution 2d kernel=(3,3), filters=64 # 因為前一步做了pool, 所以這一步filters變兩倍補償回來\n",
    "* relu\n",
    "* max pool\n",
    "* dense units=1024\n",
    "* relu\n",
    "* dropout (rate=0.8) # 先省略這一層\n",
    "* dense units = 10\n",
    "* softmax\n",
    "\n",
    "試著架出這樣的網路\n",
    "\n",
    "然後訓練看看\n",
    "\n",
    "開頭幾行可以這樣寫\n",
    "```python\n",
    "from keras.layers import Dense, Activation, Conv2D, MaxPool2D, Reshape\n",
    "model = Sequential()\n",
    "model.add(Reshape((28, 28, 1), input_shape=(784,) ))\n",
    "model.add(Conv2D(filters=32, kernel_size=(3,3), padding='same', activation=\"relu\"))\n",
    "```"
   ]
  },
  {
   "cell_type": "code",
   "execution_count": 13,
   "metadata": {
    "collapsed": true
   },
   "outputs": [],
   "source": [
    "# 參考答案\n",
    "#%load q_keras_cnn.py"
   ]
  },
  {
   "cell_type": "code",
   "execution_count": 56,
   "metadata": {},
   "outputs": [
    {
     "data": {
      "image/svg+xml": [
       "<svg height=\"701pt\" viewBox=\"0.00 0.00 393.93 701.00\" width=\"394pt\" xmlns=\"http://www.w3.org/2000/svg\" xmlns:xlink=\"http://www.w3.org/1999/xlink\">\n",
       "<g class=\"graph\" id=\"graph0\" transform=\"scale(1 1) rotate(0) translate(4 697)\">\n",
       "<title>G</title>\n",
       "<polygon fill=\"white\" points=\"-4,4 -4,-697 389.928,-697 389.928,4 -4,4\" stroke=\"none\"/>\n",
       "<!-- 5007577944 -->\n",
       "<g class=\"node\" id=\"node1\"><title>5007577944</title>\n",
       "<polygon fill=\"none\" points=\"34.248,-648.5 34.248,-692.5 351.68,-692.5 351.68,-648.5 34.248,-648.5\" stroke=\"black\"/>\n",
       "<text font-family=\"Times,serif\" font-size=\"14.00\" text-anchor=\"middle\" x=\"123.305\" y=\"-666.3\">reshape_1_input: InputLayer</text>\n",
       "<polyline fill=\"none\" points=\"212.362,-648.5 212.362,-692.5 \" stroke=\"black\"/>\n",
       "<text font-family=\"Times,serif\" font-size=\"14.00\" text-anchor=\"middle\" x=\"240.197\" y=\"-677.3\">input:</text>\n",
       "<polyline fill=\"none\" points=\"212.362,-670.5 268.031,-670.5 \" stroke=\"black\"/>\n",
       "<text font-family=\"Times,serif\" font-size=\"14.00\" text-anchor=\"middle\" x=\"240.197\" y=\"-655.3\">output:</text>\n",
       "<polyline fill=\"none\" points=\"268.031,-648.5 268.031,-692.5 \" stroke=\"black\"/>\n",
       "<text font-family=\"Times,serif\" font-size=\"14.00\" text-anchor=\"middle\" x=\"309.855\" y=\"-677.3\">(None, 784)</text>\n",
       "<polyline fill=\"none\" points=\"268.031,-670.5 351.68,-670.5 \" stroke=\"black\"/>\n",
       "<text font-family=\"Times,serif\" font-size=\"14.00\" text-anchor=\"middle\" x=\"309.855\" y=\"-655.3\">(None, 784)</text>\n",
       "</g>\n",
       "<!-- 5007579008 -->\n",
       "<g class=\"node\" id=\"node2\"><title>5007579008</title>\n",
       "<polygon fill=\"none\" points=\"45.5205,-567.5 45.5205,-611.5 340.407,-611.5 340.407,-567.5 45.5205,-567.5\" stroke=\"black\"/>\n",
       "<text font-family=\"Times,serif\" font-size=\"14.00\" text-anchor=\"middle\" x=\"109.305\" y=\"-585.3\">reshape_1: Reshape</text>\n",
       "<polyline fill=\"none\" points=\"173.09,-567.5 173.09,-611.5 \" stroke=\"black\"/>\n",
       "<text font-family=\"Times,serif\" font-size=\"14.00\" text-anchor=\"middle\" x=\"200.924\" y=\"-596.3\">input:</text>\n",
       "<polyline fill=\"none\" points=\"173.09,-589.5 228.759,-589.5 \" stroke=\"black\"/>\n",
       "<text font-family=\"Times,serif\" font-size=\"14.00\" text-anchor=\"middle\" x=\"200.924\" y=\"-574.3\">output:</text>\n",
       "<polyline fill=\"none\" points=\"228.759,-567.5 228.759,-611.5 \" stroke=\"black\"/>\n",
       "<text font-family=\"Times,serif\" font-size=\"14.00\" text-anchor=\"middle\" x=\"284.583\" y=\"-596.3\">(None, 784)</text>\n",
       "<polyline fill=\"none\" points=\"228.759,-589.5 340.407,-589.5 \" stroke=\"black\"/>\n",
       "<text font-family=\"Times,serif\" font-size=\"14.00\" text-anchor=\"middle\" x=\"284.583\" y=\"-574.3\">(None, 28, 28, 1)</text>\n",
       "</g>\n",
       "<!-- 5007577944&#45;&gt;5007579008 -->\n",
       "<g class=\"edge\" id=\"edge1\"><title>5007577944-&gt;5007579008</title>\n",
       "<path d=\"M192.964,-648.329C192.964,-640.183 192.964,-630.699 192.964,-621.797\" fill=\"none\" stroke=\"black\"/>\n",
       "<polygon fill=\"black\" points=\"196.464,-621.729 192.964,-611.729 189.464,-621.729 196.464,-621.729\" stroke=\"black\"/>\n",
       "</g>\n",
       "<!-- 5007577888 -->\n",
       "<g class=\"node\" id=\"node3\"><title>5007577888</title>\n",
       "<polygon fill=\"none\" points=\"42.7793,-486.5 42.7793,-530.5 343.148,-530.5 343.148,-486.5 42.7793,-486.5\" stroke=\"black\"/>\n",
       "<text font-family=\"Times,serif\" font-size=\"14.00\" text-anchor=\"middle\" x=\"105.805\" y=\"-504.3\">conv2d_1: Conv2D</text>\n",
       "<polyline fill=\"none\" points=\"168.831,-486.5 168.831,-530.5 \" stroke=\"black\"/>\n",
       "<text font-family=\"Times,serif\" font-size=\"14.00\" text-anchor=\"middle\" x=\"196.666\" y=\"-515.3\">input:</text>\n",
       "<polyline fill=\"none\" points=\"168.831,-508.5 224.5,-508.5 \" stroke=\"black\"/>\n",
       "<text font-family=\"Times,serif\" font-size=\"14.00\" text-anchor=\"middle\" x=\"196.666\" y=\"-493.3\">output:</text>\n",
       "<polyline fill=\"none\" points=\"224.5,-486.5 224.5,-530.5 \" stroke=\"black\"/>\n",
       "<text font-family=\"Times,serif\" font-size=\"14.00\" text-anchor=\"middle\" x=\"283.824\" y=\"-515.3\">(None, 28, 28, 1)</text>\n",
       "<polyline fill=\"none\" points=\"224.5,-508.5 343.148,-508.5 \" stroke=\"black\"/>\n",
       "<text font-family=\"Times,serif\" font-size=\"14.00\" text-anchor=\"middle\" x=\"283.824\" y=\"-493.3\">(None, 28, 28, 32)</text>\n",
       "</g>\n",
       "<!-- 5007579008&#45;&gt;5007577888 -->\n",
       "<g class=\"edge\" id=\"edge2\"><title>5007579008-&gt;5007577888</title>\n",
       "<path d=\"M192.964,-567.329C192.964,-559.183 192.964,-549.699 192.964,-540.797\" fill=\"none\" stroke=\"black\"/>\n",
       "<polygon fill=\"black\" points=\"196.464,-540.729 192.964,-530.729 189.464,-540.729 196.464,-540.729\" stroke=\"black\"/>\n",
       "</g>\n",
       "<!-- 5007484184 -->\n",
       "<g class=\"node\" id=\"node4\"><title>5007484184</title>\n",
       "<polygon fill=\"none\" points=\"0,-405.5 0,-449.5 385.928,-449.5 385.928,-405.5 0,-405.5\" stroke=\"black\"/>\n",
       "<text font-family=\"Times,serif\" font-size=\"14.00\" text-anchor=\"middle\" x=\"105.805\" y=\"-423.3\">max_pooling2d_1: MaxPooling2D</text>\n",
       "<polyline fill=\"none\" points=\"211.61,-405.5 211.61,-449.5 \" stroke=\"black\"/>\n",
       "<text font-family=\"Times,serif\" font-size=\"14.00\" text-anchor=\"middle\" x=\"239.445\" y=\"-434.3\">input:</text>\n",
       "<polyline fill=\"none\" points=\"211.61,-427.5 267.279,-427.5 \" stroke=\"black\"/>\n",
       "<text font-family=\"Times,serif\" font-size=\"14.00\" text-anchor=\"middle\" x=\"239.445\" y=\"-412.3\">output:</text>\n",
       "<polyline fill=\"none\" points=\"267.279,-405.5 267.279,-449.5 \" stroke=\"black\"/>\n",
       "<text font-family=\"Times,serif\" font-size=\"14.00\" text-anchor=\"middle\" x=\"326.604\" y=\"-434.3\">(None, 28, 28, 32)</text>\n",
       "<polyline fill=\"none\" points=\"267.279,-427.5 385.928,-427.5 \" stroke=\"black\"/>\n",
       "<text font-family=\"Times,serif\" font-size=\"14.00\" text-anchor=\"middle\" x=\"326.604\" y=\"-412.3\">(None, 14, 14, 32)</text>\n",
       "</g>\n",
       "<!-- 5007577888&#45;&gt;5007484184 -->\n",
       "<g class=\"edge\" id=\"edge3\"><title>5007577888-&gt;5007484184</title>\n",
       "<path d=\"M192.964,-486.329C192.964,-478.183 192.964,-468.699 192.964,-459.797\" fill=\"none\" stroke=\"black\"/>\n",
       "<polygon fill=\"black\" points=\"196.464,-459.729 192.964,-449.729 189.464,-459.729 196.464,-459.729\" stroke=\"black\"/>\n",
       "</g>\n",
       "<!-- 5007578672 -->\n",
       "<g class=\"node\" id=\"node5\"><title>5007578672</title>\n",
       "<polygon fill=\"none\" points=\"42.7793,-324.5 42.7793,-368.5 343.148,-368.5 343.148,-324.5 42.7793,-324.5\" stroke=\"black\"/>\n",
       "<text font-family=\"Times,serif\" font-size=\"14.00\" text-anchor=\"middle\" x=\"105.805\" y=\"-342.3\">conv2d_2: Conv2D</text>\n",
       "<polyline fill=\"none\" points=\"168.831,-324.5 168.831,-368.5 \" stroke=\"black\"/>\n",
       "<text font-family=\"Times,serif\" font-size=\"14.00\" text-anchor=\"middle\" x=\"196.666\" y=\"-353.3\">input:</text>\n",
       "<polyline fill=\"none\" points=\"168.831,-346.5 224.5,-346.5 \" stroke=\"black\"/>\n",
       "<text font-family=\"Times,serif\" font-size=\"14.00\" text-anchor=\"middle\" x=\"196.666\" y=\"-331.3\">output:</text>\n",
       "<polyline fill=\"none\" points=\"224.5,-324.5 224.5,-368.5 \" stroke=\"black\"/>\n",
       "<text font-family=\"Times,serif\" font-size=\"14.00\" text-anchor=\"middle\" x=\"283.824\" y=\"-353.3\">(None, 14, 14, 32)</text>\n",
       "<polyline fill=\"none\" points=\"224.5,-346.5 343.148,-346.5 \" stroke=\"black\"/>\n",
       "<text font-family=\"Times,serif\" font-size=\"14.00\" text-anchor=\"middle\" x=\"283.824\" y=\"-331.3\">(None, 14, 14, 64)</text>\n",
       "</g>\n",
       "<!-- 5007484184&#45;&gt;5007578672 -->\n",
       "<g class=\"edge\" id=\"edge4\"><title>5007484184-&gt;5007578672</title>\n",
       "<path d=\"M192.964,-405.329C192.964,-397.183 192.964,-387.699 192.964,-378.797\" fill=\"none\" stroke=\"black\"/>\n",
       "<polygon fill=\"black\" points=\"196.464,-378.729 192.964,-368.729 189.464,-378.729 196.464,-378.729\" stroke=\"black\"/>\n",
       "</g>\n",
       "<!-- 5007556960 -->\n",
       "<g class=\"node\" id=\"node6\"><title>5007556960</title>\n",
       "<polygon fill=\"none\" points=\"0,-243.5 0,-287.5 385.928,-287.5 385.928,-243.5 0,-243.5\" stroke=\"black\"/>\n",
       "<text font-family=\"Times,serif\" font-size=\"14.00\" text-anchor=\"middle\" x=\"105.805\" y=\"-261.3\">max_pooling2d_2: MaxPooling2D</text>\n",
       "<polyline fill=\"none\" points=\"211.61,-243.5 211.61,-287.5 \" stroke=\"black\"/>\n",
       "<text font-family=\"Times,serif\" font-size=\"14.00\" text-anchor=\"middle\" x=\"239.445\" y=\"-272.3\">input:</text>\n",
       "<polyline fill=\"none\" points=\"211.61,-265.5 267.279,-265.5 \" stroke=\"black\"/>\n",
       "<text font-family=\"Times,serif\" font-size=\"14.00\" text-anchor=\"middle\" x=\"239.445\" y=\"-250.3\">output:</text>\n",
       "<polyline fill=\"none\" points=\"267.279,-243.5 267.279,-287.5 \" stroke=\"black\"/>\n",
       "<text font-family=\"Times,serif\" font-size=\"14.00\" text-anchor=\"middle\" x=\"326.604\" y=\"-272.3\">(None, 14, 14, 64)</text>\n",
       "<polyline fill=\"none\" points=\"267.279,-265.5 385.928,-265.5 \" stroke=\"black\"/>\n",
       "<text font-family=\"Times,serif\" font-size=\"14.00\" text-anchor=\"middle\" x=\"326.604\" y=\"-250.3\">(None, 7, 7, 64)</text>\n",
       "</g>\n",
       "<!-- 5007578672&#45;&gt;5007556960 -->\n",
       "<g class=\"edge\" id=\"edge5\"><title>5007578672-&gt;5007556960</title>\n",
       "<path d=\"M192.964,-324.329C192.964,-316.183 192.964,-306.699 192.964,-297.797\" fill=\"none\" stroke=\"black\"/>\n",
       "<polygon fill=\"black\" points=\"196.464,-297.729 192.964,-287.729 189.464,-297.729 196.464,-297.729\" stroke=\"black\"/>\n",
       "</g>\n",
       "<!-- 5007444792 -->\n",
       "<g class=\"node\" id=\"node7\"><title>5007444792</title>\n",
       "<polygon fill=\"none\" points=\"49.0205,-162.5 49.0205,-206.5 336.907,-206.5 336.907,-162.5 49.0205,-162.5\" stroke=\"black\"/>\n",
       "<text font-family=\"Times,serif\" font-size=\"14.00\" text-anchor=\"middle\" x=\"112.805\" y=\"-180.3\">reshape_2: Reshape</text>\n",
       "<polyline fill=\"none\" points=\"176.59,-162.5 176.59,-206.5 \" stroke=\"black\"/>\n",
       "<text font-family=\"Times,serif\" font-size=\"14.00\" text-anchor=\"middle\" x=\"204.424\" y=\"-191.3\">input:</text>\n",
       "<polyline fill=\"none\" points=\"176.59,-184.5 232.259,-184.5 \" stroke=\"black\"/>\n",
       "<text font-family=\"Times,serif\" font-size=\"14.00\" text-anchor=\"middle\" x=\"204.424\" y=\"-169.3\">output:</text>\n",
       "<polyline fill=\"none\" points=\"232.259,-162.5 232.259,-206.5 \" stroke=\"black\"/>\n",
       "<text font-family=\"Times,serif\" font-size=\"14.00\" text-anchor=\"middle\" x=\"284.583\" y=\"-191.3\">(None, 7, 7, 64)</text>\n",
       "<polyline fill=\"none\" points=\"232.259,-184.5 336.907,-184.5 \" stroke=\"black\"/>\n",
       "<text font-family=\"Times,serif\" font-size=\"14.00\" text-anchor=\"middle\" x=\"284.583\" y=\"-169.3\">(None, 3136)</text>\n",
       "</g>\n",
       "<!-- 5007556960&#45;&gt;5007444792 -->\n",
       "<g class=\"edge\" id=\"edge6\"><title>5007556960-&gt;5007444792</title>\n",
       "<path d=\"M192.964,-243.329C192.964,-235.183 192.964,-225.699 192.964,-216.797\" fill=\"none\" stroke=\"black\"/>\n",
       "<polygon fill=\"black\" points=\"196.464,-216.729 192.964,-206.729 189.464,-216.729 196.464,-216.729\" stroke=\"black\"/>\n",
       "</g>\n",
       "<!-- 5007459272 -->\n",
       "<g class=\"node\" id=\"node8\"><title>5007459272</title>\n",
       "<polygon fill=\"none\" points=\"64.1792,-81.5 64.1792,-125.5 321.749,-125.5 321.749,-81.5 64.1792,-81.5\" stroke=\"black\"/>\n",
       "<text font-family=\"Times,serif\" font-size=\"14.00\" text-anchor=\"middle\" x=\"119.805\" y=\"-99.3\">dense_10: Dense</text>\n",
       "<polyline fill=\"none\" points=\"175.431,-81.5 175.431,-125.5 \" stroke=\"black\"/>\n",
       "<text font-family=\"Times,serif\" font-size=\"14.00\" text-anchor=\"middle\" x=\"203.266\" y=\"-110.3\">input:</text>\n",
       "<polyline fill=\"none\" points=\"175.431,-103.5 231.1,-103.5 \" stroke=\"black\"/>\n",
       "<text font-family=\"Times,serif\" font-size=\"14.00\" text-anchor=\"middle\" x=\"203.266\" y=\"-88.3\">output:</text>\n",
       "<polyline fill=\"none\" points=\"231.1,-81.5 231.1,-125.5 \" stroke=\"black\"/>\n",
       "<text font-family=\"Times,serif\" font-size=\"14.00\" text-anchor=\"middle\" x=\"276.424\" y=\"-110.3\">(None, 3136)</text>\n",
       "<polyline fill=\"none\" points=\"231.1,-103.5 321.749,-103.5 \" stroke=\"black\"/>\n",
       "<text font-family=\"Times,serif\" font-size=\"14.00\" text-anchor=\"middle\" x=\"276.424\" y=\"-88.3\">(None, 1024)</text>\n",
       "</g>\n",
       "<!-- 5007444792&#45;&gt;5007459272 -->\n",
       "<g class=\"edge\" id=\"edge7\"><title>5007444792-&gt;5007459272</title>\n",
       "<path d=\"M192.964,-162.329C192.964,-154.183 192.964,-144.699 192.964,-135.797\" fill=\"none\" stroke=\"black\"/>\n",
       "<polygon fill=\"black\" points=\"196.464,-135.729 192.964,-125.729 189.464,-135.729 196.464,-135.729\" stroke=\"black\"/>\n",
       "</g>\n",
       "<!-- 5006607136 -->\n",
       "<g class=\"node\" id=\"node9\"><title>5006607136</title>\n",
       "<polygon fill=\"none\" points=\"64.4355,-0.5 64.4355,-44.5 321.492,-44.5 321.492,-0.5 64.4355,-0.5\" stroke=\"black\"/>\n",
       "<text font-family=\"Times,serif\" font-size=\"14.00\" text-anchor=\"middle\" x=\"119.805\" y=\"-18.3\">dense_11: Dense</text>\n",
       "<polyline fill=\"none\" points=\"175.175,-0.5 175.175,-44.5 \" stroke=\"black\"/>\n",
       "<text font-family=\"Times,serif\" font-size=\"14.00\" text-anchor=\"middle\" x=\"203.009\" y=\"-29.3\">input:</text>\n",
       "<polyline fill=\"none\" points=\"175.175,-22.5 230.844,-22.5 \" stroke=\"black\"/>\n",
       "<text font-family=\"Times,serif\" font-size=\"14.00\" text-anchor=\"middle\" x=\"203.009\" y=\"-7.3\">output:</text>\n",
       "<polyline fill=\"none\" points=\"230.844,-0.5 230.844,-44.5 \" stroke=\"black\"/>\n",
       "<text font-family=\"Times,serif\" font-size=\"14.00\" text-anchor=\"middle\" x=\"276.168\" y=\"-29.3\">(None, 1024)</text>\n",
       "<polyline fill=\"none\" points=\"230.844,-22.5 321.492,-22.5 \" stroke=\"black\"/>\n",
       "<text font-family=\"Times,serif\" font-size=\"14.00\" text-anchor=\"middle\" x=\"276.168\" y=\"-7.3\">(None, 10)</text>\n",
       "</g>\n",
       "<!-- 5007459272&#45;&gt;5006607136 -->\n",
       "<g class=\"edge\" id=\"edge8\"><title>5007459272-&gt;5006607136</title>\n",
       "<path d=\"M192.964,-81.3294C192.964,-73.1826 192.964,-63.6991 192.964,-54.7971\" fill=\"none\" stroke=\"black\"/>\n",
       "<polygon fill=\"black\" points=\"196.464,-54.729 192.964,-44.729 189.464,-54.729 196.464,-54.729\" stroke=\"black\"/>\n",
       "</g>\n",
       "</g>\n",
       "</svg>"
      ],
      "text/plain": [
       "<IPython.core.display.SVG object>"
      ]
     },
     "metadata": {},
     "output_type": "display_data"
    }
   ],
   "source": [
    "from keras.layers import Dense, Activation, Conv2D, MaxPool2D, Reshape\n",
    "from keras.layers BatchNormalization\n",
    "model = Sequential()\n",
    "model.add(Reshape((28, 28, 1), input_shape=(784,) )) # 1代表一個圖層 or 一整張圖片\n",
    "model.add(Conv2D(filters=32, kernel_size=(3,3), padding='same'))\n",
    "model.add(BatchNormalization())\n",
    "model.add(activation=\"relu\")\n",
    "model.add(MaxPool2D())\n",
    "model.add(Conv2D(filters=64, kernel_size=(3,3), padding='same', activation=\"relu\"))\n",
    "model.add(MaxPool2D())\n",
    "model.add(Reshape((-1,))) #把矩陣拉直, 也可以用flaten\n",
    "model.add(Dense(units=1024, activation=\"relu\"))\n",
    "model.add(Dense(units=10, activation=\"softmax\"))\n",
    "model.compile(loss='categorical_crossentropy',\n",
    "              optimizer='adam',\n",
    "              metrics=['accuracy'])\n",
    "display(SVG(model_to_dot(model, show_shapes=True).create(prog='dot', format='svg')))\n"
   ]
  },
  {
   "cell_type": "code",
   "execution_count": 57,
   "metadata": {},
   "outputs": [
    {
     "name": "stdout",
     "output_type": "stream",
     "text": [
      "Train on 50000 samples, validate on 10000 samples\n",
      "Epoch 1/3\n",
      "50000/50000 [==============================] - 139s - loss: 0.1650 - acc: 0.9497 - val_loss: 0.0663 - val_acc: 0.9814\n",
      "Epoch 2/3\n",
      "50000/50000 [==============================] - 139s - loss: 0.0454 - acc: 0.9860 - val_loss: 0.0381 - val_acc: 0.9873\n",
      "Epoch 3/3\n",
      "50000/50000 [==============================] - 126s - loss: 0.0287 - acc: 0.9912 - val_loss: 0.0355 - val_acc: 0.9898\n",
      " 9984/10000 [============================>.] - ETA: 0s\n",
      "test accuracy= 0.9905\n"
     ]
    }
   ],
   "source": [
    "model.fit(train_X, train_Y, validation_data=(validation_X, validation_Y), batch_size=128, epochs=3)\n",
    "rtn = model.evaluate(test_X, test_Y)\n",
    "print(\"\\ntest accuracy=\", rtn[1])"
   ]
  },
  {
   "cell_type": "code",
   "execution_count": 58,
   "metadata": {},
   "outputs": [
    {
     "name": "stdout",
     "output_type": "stream",
     "text": [
      "20/20 [==============================] - 0s\n"
     ]
    },
    {
     "data": {
      "text/plain": [
       "array([7, 2, 1, 0, 4, 1, 4, 9, 5, 9, 0, 6, 9, 0, 1, 5, 9, 7, 3, 4])"
      ]
     },
     "execution_count": 58,
     "metadata": {},
     "output_type": "execute_result"
    }
   ],
   "source": [
    "# 預測看看 test_X 前 20 筆\n",
    "model.predict_classes(test_X[:20])\n"
   ]
  },
  {
   "cell_type": "code",
   "execution_count": 59,
   "metadata": {},
   "outputs": [
    {
     "data": {
      "text/plain": [
       "array([7, 2, 1, 0, 4, 1, 4, 9, 5, 9, 0, 6, 9, 0, 1, 5, 9, 7, 3, 4])"
      ]
     },
     "execution_count": 59,
     "metadata": {},
     "output_type": "execute_result"
    }
   ],
   "source": [
    "# 對答案\n",
    "test_y[:20]"
   ]
  },
  {
   "cell_type": "code",
   "execution_count": 60,
   "metadata": {},
   "outputs": [
    {
     "name": "stdout",
     "output_type": "stream",
     "text": [
      " 9952/10000 [============================>.] - ETA: 0s"
     ]
    },
    {
     "data": {
      "text/plain": [
       "[0.029008696314651753, 0.99050000000000005]"
      ]
     },
     "execution_count": 60,
     "metadata": {},
     "output_type": "execute_result"
    }
   ],
   "source": [
    "# 看看 test accuracy\n",
    "model.evaluate(test_X, test_Y)"
   ]
  }
 ],
 "metadata": {
  "kernelspec": {
   "display_name": "Python [default]",
   "language": "python",
   "name": "python3"
  },
  "language_info": {
   "codemirror_mode": {
    "name": "ipython",
    "version": 3
   },
   "file_extension": ".py",
   "mimetype": "text/x-python",
   "name": "python",
   "nbconvert_exporter": "python",
   "pygments_lexer": "ipython3",
   "version": "3.5.3"
  }
 },
 "nbformat": 4,
 "nbformat_minor": 1
}
