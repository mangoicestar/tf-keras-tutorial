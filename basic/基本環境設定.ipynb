{
 "cells": [
  {
   "cell_type": "markdown",
   "metadata": {},
   "source": [
    "## Python & Jupyter Notebook 基本環境設定\n",
    "\n",
    "### 沒辦法import tensorflow\n",
    "\n",
    "應該是虛擬環境virtualenv的問題, Python可以創造很多虛擬環境來隔絕不同專案, 所以如果按照github上創造了一個新的環境, 就要確定那個環境裡面有安裝需要的package (不過我自己目前是全部都在放同一個環境, 並沒有特地把每個專案都隔離在不同環境)  \n",
    "\n",
    "以下是我測試virtualenv的過程紀錄, 有遇到問題的可以參考是不是哪邊弄錯了~~~\n"
   ]
  },
  {
   "cell_type": "markdown",
   "metadata": {},
   "source": [
    "[ 1 ] 創造一個虛擬環境, Command: conda env create -f environment.yml\n",
    "\n",
    "> ```\n",
    "JayHsuMacBookAir:tf-keras-tutorial jayhsu$ conda env create -f environment.yml\n",
    "Using Anaconda API: https://api.anaconda.org\n",
    "Fetching package metadata .....\n",
    "```\n"
   ]
  },
  {
   "cell_type": "markdown",
   "metadata": {},
   "source": [
    "[ 2 ] 然後你的電腦會開始根據environment.yml裡面的設定開始安裝一大堆package, 所以記得要接上網路, 然後要等個大概5分鐘左右吧  \n",
    "- 大家可以把environment.yml打開看看, 其實就是一堆需要安裝的package而已, 所以如果沒有要用虛擬環境, 你也可以在自己的環境把這些套件裝一裝就好  \n",
    "- 全部的套件都安裝完之後, 畫面上還會提醒你activate / deactivate 這個虛擬環境的command\n",
    "\n",
    "> ```\n",
    "........\n",
    "Solving package specifications: .\n",
    "ca-certificate 100% |############################################################################################################################################################| Time: 0:00:01 111.90 kB/s\n",
    "jpeg-9b-0.tar. 100% |############################################################################################################################################################| Time: 0:00:01 200.74 kB/s\n",
    "...\n",
    "...\n",
    "...\n",
    "Successfully built pydot-ng\n",
    "Installing collected packages: pydot-ng, graphviz\n",
    "Successfully installed graphviz-0.7.1 pydot-ng-1.0.0\n",
    "#\n",
    "# To activate this environment, use:\n",
    "# > source activate keras\n",
    "#\n",
    "# To deactivate this environment, use:\n",
    "# > source deactivate keras\n",
    "#\n",
    "```"
   ]
  },
  {
   "cell_type": "markdown",
   "metadata": {},
   "source": [
    "[ 3 ] 安裝完之後, 要自己下command進入創造的虛擬環境, command: source activate keras   \n",
    "(進去之後, 會發現你的命令列前面多了一個虛擬環境的名稱(keras) )\n",
    "> ```\n",
    "JayHsuMacBookAir:tf-keras-tutorial jayhsu$ source activate keras\n",
    "(keras) JayHsuMacBookAir:tf-keras-tutorial jayhsu$\n",
    "```\n"
   ]
  },
  {
   "cell_type": "markdown",
   "metadata": {},
   "source": [
    "[ 4 ] 在虛擬環境裡面啟動Jupyter notebook, command: jupyter notebook      \n",
    "(看一下你的命令列前面有沒有虛擬環境的名字, 確定目前是在你要用的虛擬環境裡面)\n",
    ">```\n",
    "(keras) JayHsuMacBookAir:~ jayhsu$jupyter notebook\n",
    "[I 09:13:52.184 NotebookApp] Serving notebooks from local directory: /Users/jayhsu\n",
    "[I 09:13:52.184 NotebookApp] 0 active kernels\n",
    "[I 09:13:52.184 NotebookApp] The Jupyter Notebook is running at: http://localhost:8888/?token=8ad310f43c1e9fd0e5ea9d6f6b33febae13057bfba8720e0\n",
    "[I 09:13:52.184 NotebookApp] Use Control-C to stop this server and shut down all kernels (twice to skip confirmation).\n",
    "[C 09:13:52.186 NotebookApp]Copy/paste this URL into your browser when you connect for the first time,to login with a token: http://localhost:8888/?token=8ad310f43c1e9fd0e5ea9d6f6b33febae13057bfba8720e0\n",
    "[I 09:13:55.802 NotebookApp] Accepting one-time-token-authenticated connection from ::1\n",
    "```"
   ]
  },
  {
   "cell_type": "markdown",
   "metadata": {},
   "source": [
    "[ 5 ] 在上個步驟會出現一個網址, http://localhost:8888/?token=8ad310f43c1e9fd0e5ea9d6f6b33febae13057bfba8720e0,   \n",
    "把他貼到你的瀏覽器網址列, 就可以進入jupyter notebook了\n",
    "\n",
    "![home](img/jupyter_home.png)"
   ]
  },
  {
   "cell_type": "markdown",
   "metadata": {},
   "source": [
    "[ 6 ]  接著進入你的專案資料夾, tf-keeras-tutorial/basic, 然後點右上角的'New', 就可以開啟一個新的notebook開始寫python程式了~ \n",
    "   \n",
    "    \n",
    "![new](img/jupyternb_new.png)"
   ]
  },
  {
   "cell_type": "markdown",
   "metadata": {},
   "source": [
    "[ 7 ] 試試看import tensorflow, \n",
    "- 點上面功能列的 '+' 可以新增一個框框 \n",
    "- 在灰色框框裡面寫程式碼, \n",
    "- 然後按Ctrl+Enter可以執行這個框框的程式碼\n",
    "- 框框前面的'In'表示輸入, 'Out'表示執行的結果, 'In'後面的數字表示這是第幾個被執行的框框\n",
    "\n",
    "![import](img/jupyternb_import.png)"
   ]
  },
  {
   "cell_type": "markdown",
   "metadata": {},
   "source": [
    "[ 8 ] 如果寫程式個過程中, 有發現缺某個python套件, 你可以用freeze這個command確定一下你的環境是不是有裝這個套件\n",
    "- 新增一個框框\n",
    "- 在裡面用command: '!pip freeze', 記得pip前面要有一個驚嘆號!\n",
    "- 這樣就會列出目前這個環境裡面所有的套件\n",
    "\n",
    "![freeze](img/jupyternb_pip.png)"
   ]
  },
  {
   "cell_type": "markdown",
   "metadata": {},
   "source": [
    "[ 10 ] 如果真的沒有安裝你需要的套件, 那就安裝吧~ \n",
    "- 新增一個框框\n",
    "- 在裡面用command: '!pip install xxxx', 記得pip前面要有一個驚嘆號!, xxxx要換成你要安裝的套件名稱, ex: tensorflow\n",
    "\n",
    "![install](img/jupyternb_pipinstall.png)"
   ]
  },
  {
   "cell_type": "code",
   "execution_count": null,
   "metadata": {
    "collapsed": true
   },
   "outputs": [],
   "source": []
  }
 ],
 "metadata": {
  "kernelspec": {
   "display_name": "Python 3",
   "language": "python",
   "name": "python3"
  },
  "language_info": {
   "codemirror_mode": {
    "name": "ipython",
    "version": 3
   },
   "file_extension": ".py",
   "mimetype": "text/x-python",
   "name": "python",
   "nbconvert_exporter": "python",
   "pygments_lexer": "ipython3",
   "version": "3.6.1"
  }
 },
 "nbformat": 4,
 "nbformat_minor": 2
}
