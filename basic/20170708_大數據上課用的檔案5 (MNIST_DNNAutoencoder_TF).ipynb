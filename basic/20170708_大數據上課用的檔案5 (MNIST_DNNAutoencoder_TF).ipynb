{
 "cells": [
  {
   "cell_type": "markdown",
   "metadata": {},
   "source": [
    "# MNIST 手寫數字辨識 (MNIST_Autoencoder_TF)\n",
    "\n",
    "2017/07/21   \n",
    "徐仕杰"
   ]
  },
  {
   "cell_type": "markdown",
   "metadata": {},
   "source": [
    "### Tips:\n",
    "- 記得要download data set: \n",
    "[Mnist](https://github.com/Backlu/tf-keras-tutorial/blob/master/basic/mnist.pkl.xz)\n",
    "- 在command前面加** ! **可以執行console command\n",
    "- 在command前面加** ? **可以查詢Help\n",
    "- 什麼是one-hot representation:\n",
    "[one-hot](https://www.quora.com/What-is-one-hot-encoding-and-when-is-it-used-in-data-science)  \n",
    "- 好用的markdown語法\n",
    "[markdown](https://www.zybuluo.com/codeep/note/163962#1如何输入一个方程式序列)  \n",
    "<br>\n",
    "- import PIL error : pip install Pillow\n",
    "- import pandas error: pip install pandas\n",
    "- import lzma error: 請用python 3\n",
    "\n"
   ]
  },
  {
   "cell_type": "markdown",
   "metadata": {},
   "source": [
    "## Outline\n",
    "\n",
    "-  [Import Package & Functions](#import) \n",
    "-  [1. Import MNIST Data](#Import Data) \n",
    "-  [2. Modeling](#開始Deep Learning)  \n",
    "-  [3. Training](#reference)\n",
    "-  [4. Tensorboard](#)"
   ]
  },
  {
   "cell_type": "markdown",
   "metadata": {},
   "source": [
    "<a id='import'></a>\n",
    "## Import Package & Functions"
   ]
  },
  {
   "cell_type": "code",
   "execution_count": 1,
   "metadata": {
    "collapsed": true
   },
   "outputs": [],
   "source": [
    "import pandas as pd\n",
    "import os\n",
    "import sys\n",
    "from PIL import Image\n",
    "import numpy as np\n",
    "import lzma\n",
    "import pickle\n",
    "from IPython.display import display\n",
    "import tensorflow as tf\n",
    "from tfdot import tfdot\n",
    "from tensorflow.contrib.tensorboard.plugins import projector\n",
    "import shutil\n",
    "import matplotlib.pyplot as plt\n",
    "from PIL import Image\n",
    "import warnings\n",
    "from sklearn import preprocessing\n",
    "from functools import reduce"
   ]
  },
  {
   "cell_type": "code",
   "execution_count": 2,
   "metadata": {
    "collapsed": true
   },
   "outputs": [],
   "source": [
    "def showX(X, rows=1):\n",
    "    assert X.shape[0] % rows == 0\n",
    "    int_X = (X*255).clip(0,255).astype('uint8')\n",
    "    # N*784 -> N*28*28 -> 28*N*28 -> 28 * 28N\n",
    "    int_X_reshape = int_X.reshape(rows, -1,28,28).swapaxes(1,2).reshape(28*rows,-1)\n",
    "    display(Image.fromarray(int_X_reshape))"
   ]
  },
  {
   "cell_type": "code",
   "execution_count": 3,
   "metadata": {
    "collapsed": true
   },
   "outputs": [],
   "source": [
    "def updateProgress(msg):\n",
    "    sys.stdout.write('\\r')\n",
    "    sys.stdout.write(msg)\n",
    "    sys.stdout.flush()"
   ]
  },
  {
   "cell_type": "code",
   "execution_count": 4,
   "metadata": {
    "collapsed": true
   },
   "outputs": [],
   "source": [
    "def variable_summaries(var, name):  \n",
    "    with tf.name_scope('summaries_'+str(name)):  \n",
    "        mean = tf.reduce_mean(var)  \n",
    "        tf.summary.scalar('mean', mean)  \n",
    "        stddev = tf.sqrt(tf.reduce_mean(tf.square(var - mean)))  \n",
    "        tf.summary.scalar('stddev', stddev)  \n",
    "        tf.summary.scalar('max', tf.reduce_max(var))  \n",
    "        tf.summary.scalar('min', tf.reduce_min(var))  \n",
    "        tf.summary.histogram('histogram', var)  "
   ]
  },
  {
   "cell_type": "code",
   "execution_count": 5,
   "metadata": {
    "collapsed": true
   },
   "outputs": [],
   "source": [
    "def weight_variable(shape, name):\n",
    "    return tf.Variable(tf.truncated_normal(shape = shape, stddev = 0.1), name)\n",
    "def bias_variable(shape, name):\n",
    "    return tf.Variable(tf.truncated_normal(shape = shape, stddev = 0.1), name)"
   ]
  },
  {
   "cell_type": "code",
   "execution_count": 6,
   "metadata": {
    "collapsed": true
   },
   "outputs": [],
   "source": [
    "def kl_div(rho, rho_hat):\n",
    "    invrho = tf.subtract(tf.constant(1.), rho)\n",
    "    invrhohat = tf.subtract(tf.constant(1.), rho_hat)\n",
    "    logrho = tf.add(logfunc(rho,rho_hat), logfunc(invrho, invrhohat))\n",
    "    return logrho\n",
    "    \n",
    "def logfunc(x, x2):\n",
    "    return tf.multiply( x, tf.log(tf.div(x,x2)))"
   ]
  },
  {
   "cell_type": "markdown",
   "metadata": {},
   "source": [
    "<a id='Import MNIST Data'></a>\n",
    "## 1. Import MNIST Data"
   ]
  },
  {
   "cell_type": "markdown",
   "metadata": {},
   "source": [
    "#### 先把MNIST資料讀進來\n",
    "- Training Data: 訓練Model\n",
    "- Validataion Data: 訓練Model的時候, 同步監控目前模型的好壞\n",
    "- Testing Data: 訓練結束後, 評估模型的好壞"
   ]
  },
  {
   "cell_type": "code",
   "execution_count": 7,
   "metadata": {},
   "outputs": [
    {
     "name": "stdout",
     "output_type": "stream",
     "text": [
      "list裡的前面是picture X [[ 0.  0.  0. ...,  0.  0.  0.]\n",
      " [ 0.  0.  0. ...,  0.  0.  0.]\n",
      " [ 0.  0.  0. ...,  0.  0.  0.]\n",
      " ..., \n",
      " [ 0.  0.  0. ...,  0.  0.  0.]\n",
      " [ 0.  0.  0. ...,  0.  0.  0.]\n",
      " [ 0.  0.  0. ...,  0.  0.  0.]]\n",
      "後面是label Y [5 0 4 ..., 8 4 8]\n"
     ]
    }
   ],
   "source": [
    "with lzma.open(\"mnist.pkl.xz\", 'rb') as f:\n",
    "    train_set, validation_set, test_set = pickle.load(f, encoding='latin1')\n",
    "\n",
    "print('list裡的前面是picture X',train_set[0])\n",
    "print('後面是label Y',train_set[1])\n"
   ]
  },
  {
   "cell_type": "code",
   "execution_count": 8,
   "metadata": {},
   "outputs": [
    {
     "name": "stdout",
     "output_type": "stream",
     "text": [
      "training data size: 50000\n",
      "validataion data size: 10000\n",
      "testing data size: 10000\n",
      "picture shape: (784,)\n"
     ]
    }
   ],
   "source": [
    "train_X, train_y = train_set\n",
    "validation_X, validation_y = validation_set\n",
    "test_X, test_y = test_set\n",
    "print('training data size:',len(train_X))\n",
    "print('validataion data size:',len(validation_X))\n",
    "print('testing data size:',len(test_X))\n",
    "print('picture shape:',train_X[0].shape)"
   ]
  },
  {
   "cell_type": "markdown",
   "metadata": {},
   "source": [
    "#### 把Y label變成one-hot representation"
   ]
  },
  {
   "cell_type": "code",
   "execution_count": 9,
   "metadata": {
    "collapsed": true
   },
   "outputs": [],
   "source": [
    "train_Y = np.eye(10)[train_y]\n",
    "test_Y = np.eye(10)[test_y]\n",
    "validation_Y = np.eye(10)[validation_y]"
   ]
  },
  {
   "cell_type": "markdown",
   "metadata": {},
   "source": [
    "<a id='Modeling'></a>\n",
    "## 2. Modeling\n"
   ]
  },
  {
   "cell_type": "markdown",
   "metadata": {},
   "source": [
    "** What is autoencoder ? **\n",
    "\n",
    "** autoencoder可以幹嘛？ **\n"
   ]
  },
  {
   "cell_type": "markdown",
   "metadata": {},
   "source": [
    "- Autoencoder \n",
    "    -  [Parameters](#定義參數) \n",
    "    -  [Autoencoder modeling - Network Structure](#設計一個) \n",
    "    -  [Autoencoder modeling - Loss Function & Optimizer](#選一個loss) \n",
    "    -  [Autoencoder training](#選一個o) \n",
    "    -  [Autoencoder - test](#開始執行)   \n",
    "- Classifier       \n",
    "    -  [Classifier modeling - Network Structure](#算一下正)  \n",
    "    -  [Classifier modeling - loss function and Optimizer](#)\n",
    "    -  [Classifier training](#)\n",
    "    -  [Classifier testing](#)"
   ]
  },
  {
   "cell_type": "markdown",
   "metadata": {},
   "source": [
    "** Parameters **"
   ]
  },
  {
   "cell_type": "code",
   "execution_count": 10,
   "metadata": {},
   "outputs": [],
   "source": [
    "tf.reset_default_graph()\n",
    "X =tf.placeholder(tf.float32, [None, 784], name=\"X\")\n",
    "Y_ = tf.placeholder(tf.float32, shape=[None, 10], name=\"Y_\")"
   ]
  },
  {
   "cell_type": "markdown",
   "metadata": {},
   "source": [
    "** Autoencoder modeling - Network Structure **"
   ]
  },
  {
   "cell_type": "markdown",
   "metadata": {},
   "source": [
    "encoded_neural = 30\n",
    "def build_sae():\n",
    "    W_e_1 = weight_variable([784, 1000], \"w_e_1\")\n",
    "    b_e_1 = bias_variable([1000], \"b_e_1\")\n",
    "    h_e_1 = tf.nn.sigmoid(tf.add(tf.matmul(X, W_e_1), b_e_1))\n",
    "\n",
    "    W_e_2 = weight_variable([1000, 500], \"w_e_2\")\n",
    "    b_e_2 = bias_variable([500], \"b_e_2\")\n",
    "    h_e_2 = tf.nn.sigmoid(tf.add(tf.matmul(h_e_1, W_e_2), b_e_2))\n",
    "    \n",
    "    W_e_3 = weight_variable([500, 250], \"w_e_3\")\n",
    "    b_e_3 = bias_variable([250], \"b_e_3\")\n",
    "    h_e_3 = tf.nn.sigmoid(tf.add(tf.matmul(h_e_2, W_e_3), b_e_3))\n",
    "    \n",
    "    W_e_4 = weight_variable([250, encoded_neural], \"w_e_4\")\n",
    "    b_e_4 = bias_variable([encoded_neural], \"b_e_4\")\n",
    "    h_e_4 = tf.nn.sigmoid(tf.add(tf.matmul(h_e_3, W_e_4), b_e_4))\n",
    "\n",
    "    W_d_1 = weight_variable([encoded_neural, 250], \"w_d_1\")\n",
    "    b_d_1 = bias_variable([250], \"b_d_1\")\n",
    "    h_d_1 = tf.nn.sigmoid(tf.add(tf.matmul(h_e_4, W_d_1), b_d_1))\n",
    "    \n",
    "    W_d_2 = weight_variable([250, 500], 'w_d_2')\n",
    "    b_d_2 = bias_variable([500], \"b_d_2\")\n",
    "    h_d_2 = tf.nn.sigmoid(tf.add(tf.matmul(h_d_1, W_d_2), b_d_2))\n",
    "\n",
    "    W_d_3 = weight_variable([500, 1000], \"w_d_3\")\n",
    "    b_d_3 = bias_variable([1000], \"b_d_3\")\n",
    "    h_d_3 = tf.nn.sigmoid(tf.add(tf.matmul(h_d_2, W_d_3), b_d_3))\n",
    "    \n",
    "    W_d_4 = weight_variable([1000, 784], \"w_d_4\")\n",
    "    b_d_4 = bias_variable([784], \"b_d_4\")\n",
    "    h_d_4 = tf.nn.sigmoid(tf.add(tf.matmul(h_d_3, W_d_4), b_d_4))\n",
    "    h = [h_e_1, h_e_2, h_e_3, h_e_4, h_d_1, h_d_2, h_d_3, h_d_4]\n",
    "    w = [W_e_1, W_e_2,W_e_3, W_e_4, W_d_1, W_d_2, W_d_3,  W_d_4]\n",
    "    \n",
    "    return h, w, h_e_4, h_d_4\n",
    "\n",
    "h, w, encoded, x_reconstruct = build_sae()"
   ]
  },
  {
   "cell_type": "code",
   "execution_count": 11,
   "metadata": {
    "collapsed": true
   },
   "outputs": [],
   "source": [
    "encoded_neural = 30\n",
    "def build_sae():\n",
    "    W_e_1 = weight_variable([784, 500], \"w_e_1\")\n",
    "    b_e_1 = bias_variable([500], \"b_e_1\")\n",
    "    h_e_1 = tf.nn.sigmoid(tf.add(tf.matmul(X, W_e_1), b_e_1))\n",
    "\n",
    "    W_e_2 = weight_variable([500, 250], \"w_e_2\")\n",
    "    b_e_2 = bias_variable([250], \"b_e_2\")\n",
    "    h_e_2 = tf.nn.sigmoid(tf.add(tf.matmul(h_e_1, W_e_2), b_e_2))\n",
    "\n",
    "    W_e_4 = weight_variable([250, encoded_neural], \"w_e_4\")\n",
    "    b_e_4 = bias_variable([encoded_neural], \"b_e_4\")\n",
    "    h_e_4 = tf.nn.sigmoid(tf.add(tf.matmul(h_e_2, W_e_4), b_e_4))\n",
    "\n",
    "    W_d_1 = weight_variable([encoded_neural, 250], \"w_d_1\")\n",
    "    b_d_1 = bias_variable([250], \"b_d_1\")\n",
    "    h_d_1 = tf.nn.sigmoid(tf.add(tf.matmul(h_e_4, W_d_1), b_d_1))\n",
    "\n",
    "    W_d_3 = weight_variable([250, 500], \"w_d_3\")\n",
    "    b_d_3 = bias_variable([500], \"b_d_3\")\n",
    "    h_d_3 = tf.nn.sigmoid(tf.add(tf.matmul(h_d_1, W_d_3), b_d_3))\n",
    "    \n",
    "    W_d_4 = weight_variable([500, 784], \"w_d_4\")\n",
    "    b_d_4 = bias_variable([784], \"b_d_4\")\n",
    "    h_d_4 = tf.nn.sigmoid(tf.add(tf.matmul(h_d_3, W_d_4), b_d_4))\n",
    "    h = [h_e_1, h_e_2, h_e_4, h_d_1, h_d_3, h_d_4]\n",
    "    w = [W_e_1, W_e_2, W_e_4, W_d_1, W_d_3,  W_d_4]\n",
    "    \n",
    "    return h, w, h_e_4, h_d_4\n",
    "\n",
    "h, w, encoded, x_reconstruct = build_sae()"
   ]
  },
  {
   "cell_type": "markdown",
   "metadata": {},
   "source": [
    "** Autoencoder modeling - Loss Function & Optimizer **"
   ]
  },
  {
   "cell_type": "code",
   "execution_count": 12,
   "metadata": {},
   "outputs": [],
   "source": [
    "alpha = 5e-6\n",
    "beta = 7.5e-5\n",
    "kl_div_loss = reduce(lambda x, y: x + y, map(lambda x: tf.reduce_sum(kl_div(0.02, tf.reduce_mean(x,0))), h))\n",
    "l2_loss = reduce(lambda x, y: x + y, map(lambda x: tf.nn.l2_loss(x), w))\n",
    "loss_auto = tf.reduce_mean(tf.pow(x_reconstruct - X, 2)) #+ alpha * l2_loss #+ beta * kl_div_loss\n",
    "\n",
    "optimizer = tf.train.AdamOptimizer(0.01).minimize(loss_auto)\n"
   ]
  },
  {
   "cell_type": "markdown",
   "metadata": {},
   "source": [
    "** Classifier modeling - Network Structure **"
   ]
  },
  {
   "cell_type": "code",
   "execution_count": 13,
   "metadata": {},
   "outputs": [],
   "source": [
    "def build_classfier(encoded):\n",
    "    W_cf_1 = weight_variable([30, 10], \"W_cf_1\")\n",
    "    b_cf_1 = bias_variable([10], \"b_cf_1\")\n",
    "    h_cf_1 = tf.add(tf.matmul(encoded, W_cf_1), b_cf_1)\n",
    "    h_cf_1_sf = tf.nn.softmax(h_cf_1)\n",
    "    return [h_cf_1_sf], [W_cf_1,b_cf_1], h_cf_1, h_cf_1_sf\n",
    "\n",
    "_, trainable_vars, Y, Y_softmax = build_classfier(encoded)\n",
    "#correct_prediction = tf.equal(Y_softmax_argmax, tf.argmax(Y_, 1))\n",
    "correct_pred = tf.equal(tf.argmax(Y_softmax, 1), tf.argmax(Y_, 1))\n",
    "accuracy = tf.reduce_mean(tf.cast(correct_pred, \"float\"))"
   ]
  },
  {
   "cell_type": "markdown",
   "metadata": {},
   "source": [
    "** Classifier modeling - loss function and Optimizer **"
   ]
  },
  {
   "cell_type": "code",
   "execution_count": 14,
   "metadata": {
    "collapsed": true
   },
   "outputs": [],
   "source": [
    "loss_cla = tf.reduce_mean(tf.nn.softmax_cross_entropy_with_logits(labels=Y_, logits=Y))\n",
    "#optimizer_cla = tf.train.RMSPropOptimizer(0.01).minimize(loss_cla,var_list=trainable_vars)\n",
    "optimizer_cla = tf.train.RMSPropOptimizer(0.01).minimize(loss_cla)"
   ]
  },
  {
   "cell_type": "markdown",
   "metadata": {},
   "source": [
    "## 3. Training"
   ]
  },
  {
   "cell_type": "markdown",
   "metadata": {},
   "source": [
    "** Autoencoder training **"
   ]
  },
  {
   "cell_type": "code",
   "execution_count": null,
   "metadata": {
    "collapsed": true
   },
   "outputs": [],
   "source": [
    "init_op = tf.global_variables_initializer()\n",
    "sess = tf.InteractiveSession()\n",
    "sess.run(init_op)\n"
   ]
  },
  {
   "cell_type": "code",
   "execution_count": 20,
   "metadata": {
    "scrolled": false
   },
   "outputs": [
    {
     "name": "stdout",
     "output_type": "stream",
     "text": [
      "epoch:0, batch:100 loss:0.019495276734232903\n",
      "epoch:1, batch:100 loss:0.018572742119431496\n",
      "epoch:2, batch:100 loss:0.01892249286174774\n",
      "epoch:3, batch:100 loss:0.01788116991519928\n",
      "epoch:4, batch:100 loss:0.017328714951872826\n",
      "epoch:5, batch:100 loss:0.017409678548574448\n",
      "epoch:6, batch:100 loss:0.01654631271958351\n",
      "epoch:7, batch:100 loss:0.01644429937005043\n",
      "epoch:8, batch:100 loss:0.01664084754884243\n",
      "epoch:9, batch:100 loss:0.014998780563473701\n",
      "epoch:10, batch:100 loss:0.015366114675998688\n",
      "epoch:11, batch:100 loss:0.015432391315698624\n",
      "epoch:12, batch:100 loss:0.015046445652842522\n",
      "epoch:13, batch:100 loss:0.014436179772019386\n",
      "epoch:14, batch:100 loss:0.014812003821134567\n",
      "epoch:15, batch:100 loss:0.014089689590036869\n"
     ]
    }
   ],
   "source": [
    "epoch = 15\n",
    "batch_size = 500\n",
    "total_batch= len(train_X) / batch_size\n",
    "for ep in range(epoch+1):\n",
    "    for i in range(int(total_batch)+1):\n",
    "        rnd_idx = np.random.choice(train_X.shape[0], batch_size, replace=False)\n",
    "        batch_x = train_X[rnd_idx]\n",
    "        _, loss_v= sess.run([optimizer, loss_auto], feed_dict={X: batch_x})\n",
    "    updateProgress('epoch:{x0}, batch:{x4} loss:{x3}'.format(x0=ep,x3=loss_v,x4=i))\n",
    "    print()\n"
   ]
  },
  {
   "cell_type": "markdown",
   "metadata": {},
   "source": [
    "** Autoencoder - test mnist **"
   ]
  },
  {
   "cell_type": "code",
   "execution_count": 21,
   "metadata": {},
   "outputs": [
    {
     "data": {
      "image/png": "[encoded data removed]",
      "text/plain": [
       "<PIL.Image.Image image mode=L size=560x28 at 0x1198FD748>"
      ]
     },
     "metadata": {},
     "output_type": "display_data"
    },
    {
     "name": "stdout",
     "output_type": "stream",
     "text": [
      "\n"
     ]
    },
    {
     "data": {
      "image/png": "[encoded data removed]",
      "text/plain": [
       "<PIL.Image.Image image mode=L size=560x28 at 0x1199BDD30>"
      ]
     },
     "metadata": {},
     "output_type": "display_data"
    }
   ],
   "source": [
    "showX(test_X[:20])\n",
    "batch_tx = test_X[:20]\n",
    "decoded_imgs = sess.run([x_reconstruct], feed_dict={X: batch_tx})\n",
    "\n",
    "decoded_imgs_1 = np.array(decoded_imgs)\n",
    "decoded_imgs_1 = decoded_imgs_1.reshape(20,784)\n",
    "print('')\n",
    "showX(decoded_imgs_1[:20])"
   ]
  },
  {
   "cell_type": "markdown",
   "metadata": {},
   "source": [
    "![](img/fail.png)"
   ]
  },
  {
   "cell_type": "markdown",
   "metadata": {},
   "source": [
    "** Autoencoder - test other picture **"
   ]
  },
  {
   "cell_type": "code",
   "execution_count": 22,
   "metadata": {
    "scrolled": false
   },
   "outputs": [
    {
     "data": {
      "image/png": "[encoded data removed]",
      "text/plain": [
       "<PIL.Image.Image image mode=L size=28x28 at 0x129704CF8>"
      ]
     },
     "metadata": {},
     "output_type": "display_data"
    },
    {
     "data": {
      "image/png": "[encoded data removed]",
      "text/plain": [
       "<PIL.Image.Image image mode=L size=28x28 at 0x129704CF8>"
      ]
     },
     "metadata": {},
     "output_type": "display_data"
    },
    {
     "data": {
      "image/png": "[encoded data removed]",
      "text/plain": [
       "<PIL.Image.Image image mode=L size=28x28 at 0x129704CF8>"
      ]
     },
     "metadata": {},
     "output_type": "display_data"
    },
    {
     "data": {
      "image/png": "[encoded data removed]",
      "text/plain": [
       "<PIL.Image.Image image mode=L size=28x28 at 0x129704CF8>"
      ]
     },
     "metadata": {},
     "output_type": "display_data"
    },
    {
     "data": {
      "image/png": "[encoded data removed]",
      "text/plain": [
       "<PIL.Image.Image image mode=L size=28x28 at 0x129704CF8>"
      ]
     },
     "metadata": {},
     "output_type": "display_data"
    },
    {
     "data": {
      "image/png": "[encoded data removed]",
      "text/plain": [
       "<PIL.Image.Image image mode=L size=140x28 at 0x1199C8DD8>"
      ]
     },
     "metadata": {},
     "output_type": "display_data"
    }
   ],
   "source": [
    "warnings.filterwarnings('ignore')\n",
    "piclist = ['img/ae1.jpg','img/ae2.jpg','img/ae3.jpg','img/ae4.jpeg','img/ae5.jpeg']\n",
    "batch_tx=[]\n",
    "min_max_scaler = preprocessing.MinMaxScaler()\n",
    "normalize_scaler = preprocessing.StandardScaler()\n",
    "for pic in piclist:\n",
    "    im = Image.open(pic).convert('L') #Can be many different formats.\n",
    "    #display(im)\n",
    "    im = im.resize((28,28))\n",
    "    display(im)\n",
    "    #pix = im.load()\n",
    "    pixels = list(im.getdata())\n",
    "    pixels = np.array(pixels).reshape(784)\n",
    "    pixels_scaled = normalize_scaler.fit_transform(pixels.reshape((-1, 1)))\n",
    "    batch_tx.append(pixels_scaled.reshape((784)))\n",
    "    \n",
    "decoded_img_test = sess.run([x_reconstruct], feed_dict={X: batch_tx})\n",
    "decoded_img_test = np.array(decoded_img_test)\n",
    "decoded_img_test = decoded_img_test.reshape(-1,784)\n",
    "showX(decoded_img_test[:20])"
   ]
  },
  {
   "cell_type": "markdown",
   "metadata": {},
   "source": [
    "** Classifier training **"
   ]
  },
  {
   "cell_type": "code",
   "execution_count": 23,
   "metadata": {
    "scrolled": false
   },
   "outputs": [
    {
     "name": "stdout",
     "output_type": "stream",
     "text": [
      "Ep:0, Bch:390, Tr: loss:0.23164501786231995, acc:0.9375, Vd: loss:0.18050619959831238, acc:0.9484999775886536\n",
      "Ep:1, Bch:390, Tr: loss:0.1820179522037506, acc:0.96875, Vd: loss:0.15137505531311035, acc:0.960099995136261\n",
      "Ep:2, Bch:390, Tr: loss:0.0717480331659317, acc:0.9765625, Vd: loss:0.1374199092388153, acc:0.9623000025749207\n",
      "Ep:3, Bch:390, Tr: loss:0.015384380705654621, acc:0.9921875, Vd: loss:0.09729854762554169, acc:0.9760000109672546\n",
      "Ep:4, Bch:390, Tr: loss:0.109468474984169, acc:0.9609375, Vd: loss:0.10849763453006744, acc:0.9729999899864197\n",
      "Ep:5, Bch:390, Tr: loss:0.03278045728802681, acc:0.984375, Vd: loss:0.09915957599878311, acc:0.9768000245094299\n",
      "Ep:6, Bch:390, Tr: loss:0.09993363916873932, acc:0.984375, Vd: loss:0.09416057914495468, acc:0.9775999784469604\n",
      "Ep:7, Bch:390, Tr: loss:0.02570577897131443, acc:0.9921875, Vd: loss:0.11107805371284485, acc:0.9758999943733215\n",
      "Ep:8, Bch:390, Tr: loss:0.033155348151922226, acc:0.9921875, Vd: loss:0.1046699583530426, acc:0.9765999913215637\n",
      "Ep:9, Bch:390, Tr: loss:0.0007871844572946429, acc:1.0, Vd: loss:0.1366512030363083, acc:0.9754999876022339\n",
      "Ep:10, Bch:390, Tr: loss:0.015006786212325096, acc:0.984375, Vd: loss:0.13647966086864471, acc:0.9763000011444092\n",
      "Ep:11, Bch:390, Tr: loss:0.0037127600517123938, acc:1.0, Vd: loss:0.12770193815231323, acc:0.9761000275611877\n",
      "Ep:12, Bch:390, Tr: loss:0.08007393777370453, acc:0.984375, Vd: loss:0.12344720214605331, acc:0.9781000018119812\n",
      "Ep:13, Bch:390, Tr: loss:0.03304967284202576, acc:0.9921875, Vd: loss:0.12420899420976639, acc:0.9768999814987183\n",
      "Ep:14, Bch:390, Tr: loss:0.001173948752693832, acc:1.0, Vd: loss:0.12054748833179474, acc:0.9776999950408936\n",
      "Ep:15, Bch:390, Tr: loss:0.004321485757827759, acc:1.0, Vd: loss:0.12949131429195404, acc:0.9790999889373779\n"
     ]
    }
   ],
   "source": [
    "epoch = 15\n",
    "batch_size = 128\n",
    "total_batch= len(train_X) / batch_size\n",
    "for ep in range(epoch+1):\n",
    "    for i in range(int(total_batch)+1):\n",
    "        rnd_idx = np.random.choice(train_X.shape[0], batch_size, replace=False)\n",
    "        batch_x = train_X[rnd_idx]\n",
    "        batch_y = train_Y[rnd_idx]\n",
    "        _, loss_v, acc_v= sess.run([optimizer_cla, loss_cla, accuracy], feed_dict={X: batch_x, Y_:batch_y})\n",
    "    loss_v2, acc_v2= sess.run([loss_cla, accuracy], feed_dict={X: validation_X , Y_: validation_Y})\n",
    "    updateProgress('Ep:{x0}, Bch:{x4}, Tr: loss:{x5}, acc:{x6}, Vd: loss:{x3}, acc:{x2}'.format(x0=ep,x1=i,x2=acc_v2,x3=loss_v2,x4=i,x6=acc_v,x5=loss_v))\n",
    "    print()\n",
    "\n"
   ]
  },
  {
   "cell_type": "markdown",
   "metadata": {},
   "source": [
    "** Classifier testing **"
   ]
  },
  {
   "cell_type": "code",
   "execution_count": 25,
   "metadata": {},
   "outputs": [
    {
     "name": "stdout",
     "output_type": "stream",
     "text": [
      "predict:  [0 9 1 1 2 4 3 2 7]\n"
     ]
    },
    {
     "data": {
      "image/png": "[encoded data removed]",
      "text/plain": [
       "<PIL.Image.Image image mode=L size=252x28 at 0x1199C3D68>"
      ]
     },
     "metadata": {},
     "output_type": "display_data"
    },
    {
     "name": "stdout",
     "output_type": "stream",
     "text": [
      "answer:  [0 9 1 1 2 4 3 2 7]\n",
      "Training 第21~30筆資料的比對結果:       0\n",
      "0  True\n",
      "1  True\n",
      "2  True\n",
      "3  True\n",
      "4  True\n",
      "5  True\n",
      "6  True\n",
      "7  True\n",
      "8  True\n"
     ]
    }
   ],
   "source": [
    "# 抓出前五筆訓練資料的預測結果 Y_softmax (注意：這個是one-hot的格式)\n",
    "pred_tmp = Y_softmax.eval(feed_dict={X: train_X[21:30]})\n",
    "pred_tmp_df = pd.DataFrame(pred_tmp)\n",
    "_ = pred_tmp_df.apply(np.argmax,axis=1)\n",
    "print('predict: ',_.values)\n",
    "showX(train_X[21:30])\n",
    "print('answer: ',train_y[21:30])\n",
    "_ = correct_pred.eval({X: train_X[21:30] , Y_: train_Y[21:30]})\n",
    "print('Training 第21~30筆資料的比對結果:',pd.DataFrame(_))"
   ]
  },
  {
   "cell_type": "code",
   "execution_count": 28,
   "metadata": {
    "scrolled": false
   },
   "outputs": [
    {
     "name": "stdout",
     "output_type": "stream",
     "text": [
      "predict:  [7 2 1 0 4 1 4 9 5 9 0 6 9 0 1 5 9 7 3 4 9 6 6 5 4 0 7 4 0 1 3 1 3 4 7 2 7\n",
      " 1 2 1 1 7 4 2 3 5 1 2 4 4 6 3 5 5 6 0 4 1 9 5 7 8 9 3 7 9 6 4 3 0 7 0 2 9\n",
      " 1 7 3 2 9 7 7 6 2 7 8 4 7 3 6 1 3 6 9 3 1 4 1 7 6 9]\n"
     ]
    },
    {
     "data": {
      "image/png": "[encoded data removed]",
      "text/plain": [
       "<PIL.Image.Image image mode=L size=2800x28 at 0x11A091898>"
      ]
     },
     "metadata": {},
     "output_type": "display_data"
    },
    {
     "data": {
      "image/png": "[encoded data removed]",
      "text/plain": [
       "<PIL.Image.Image image mode=L size=2800x28 at 0x11A091898>"
      ]
     },
     "metadata": {},
     "output_type": "display_data"
    },
    {
     "name": "stdout",
     "output_type": "stream",
     "text": [
      "answer:  [5 0 4 1 9 2 1 3 1 4 3 5 3 6 1 7 2 8 6 9 4 0 9 1 1 2 4 3 2 7 3 8 6 9 0 5 6\n",
      " 0 7 6 1 8 7 9 3 9 8 5 9 3 3 0 7 4 9 8 0 9 4 1 4 4 6 0 4 5 6 1 0 0 1 7 1 6\n",
      " 3 0 2 1 1 7 9 0 2 6 7 8 3 9 0 4 6 7 4 6 8 0 7 8 3 1]\n",
      "Testing 第21~30筆資料的比對結果:        0\n",
      "0   True\n",
      "1   True\n",
      "2   True\n",
      "3   True\n",
      "4   True\n",
      "5   True\n",
      "6   True\n",
      "7   True\n",
      "8   True\n",
      "9   True\n",
      "10  True\n",
      "11  True\n",
      "12  True\n",
      "13  True\n",
      "14  True\n",
      "15  True\n",
      "16  True\n",
      "17  True\n",
      "18  True\n",
      "19  True\n",
      "20  True\n",
      "21  True\n",
      "22  True\n",
      "23  True\n",
      "24  True\n",
      "25  True\n",
      "26  True\n",
      "27  True\n",
      "28  True\n",
      "29  True\n",
      "..   ...\n",
      "70  True\n",
      "71  True\n",
      "72  True\n",
      "73  True\n",
      "74  True\n",
      "75  True\n",
      "76  True\n",
      "77  True\n",
      "78  True\n",
      "79  True\n",
      "80  True\n",
      "81  True\n",
      "82  True\n",
      "83  True\n",
      "84  True\n",
      "85  True\n",
      "86  True\n",
      "87  True\n",
      "88  True\n",
      "89  True\n",
      "90  True\n",
      "91  True\n",
      "92  True\n",
      "93  True\n",
      "94  True\n",
      "95  True\n",
      "96  True\n",
      "97  True\n",
      "98  True\n",
      "99  True\n",
      "\n",
      "[100 rows x 1 columns]\n"
     ]
    }
   ],
   "source": [
    "# 抓出前五筆訓練資料的預測結果 Y_softmax (注意：這個是one-hot的格式)\n",
    "pred_tmp = Y_softmax.eval(feed_dict={X: test_X[:100]})\n",
    "pred_tmp_df = pd.DataFrame(pred_tmp)\n",
    "_ = pred_tmp_df.apply(np.argmax,axis=1)\n",
    "print('predict: ',_.values)\n",
    "showX(test_X[:100])\n",
    "batch_tx = test_X[:100]\n",
    "decoded_imgs = sess.run([x_reconstruct], feed_dict={X: batch_tx})\n",
    "decoded_imgs_1 = np.array(decoded_imgs)\n",
    "decoded_imgs_1 = decoded_imgs_1.reshape(-1,784)\n",
    "showX(decoded_imgs_1)\n",
    "print('answer: ',train_y[:100])\n",
    "_ = correct_pred.eval({X: test_X[:100] , Y_: test_Y[:100]})\n",
    "print('Testing 第21~30筆資料的比對結果:',pd.DataFrame(_))"
   ]
  },
  {
   "cell_type": "code",
   "execution_count": 30,
   "metadata": {},
   "outputs": [
    {
     "name": "stdout",
     "output_type": "stream",
     "text": [
      "Accuracy: 0.9775\n"
     ]
    }
   ],
   "source": [
    "acc = sess.run(accuracy, feed_dict={X: test_X , Y_: test_Y})\n",
    "print('Accuracy:',acc)"
   ]
  },
  {
   "cell_type": "markdown",
   "metadata": {},
   "source": [
    "### Tensor Borad"
   ]
  },
  {
   "cell_type": "markdown",
   "metadata": {},
   "source": []
  },
  {
   "cell_type": "code",
   "execution_count": null,
   "metadata": {
    "collapsed": true
   },
   "outputs": [],
   "source": [
    "LOG_DIR = 'tb-log0'\n",
    "input_data = train_X[:5000]\n",
    "input_y = train_y[:5000]\n",
    "if not os.path.exists(LOG_DIR):\n",
    "    os.mkdir(LOG_DIR)\n",
    "#把圖片的label存到metadata.tsv\n",
    "metadata_file_path = os.path.join(LOG_DIR, 'metadata.tsv')\n",
    "with open(metadata_file_path, 'w') as metadata_file:\n",
    "    for row in range(len(input_y)):\n",
    "        c=input_y[row]\n",
    "        metadata_file.write('{}\\n'.format(c))"
   ]
  },
  {
   "cell_type": "code",
   "execution_count": null,
   "metadata": {},
   "outputs": [],
   "source": [
    "#Save variable\n",
    "Input_Var = tf.Variable(input_data, name='Input_var')\n",
    "tmp_aevalue = encoded.eval({X: input_data})\n",
    "encoded_Var = tf.Variable(encoded.eval({X: input_data}), name='encoded_var')\n",
    "x_reconstruct_Var = tf.Variable(x_reconstruct.eval({X: input_data}), name='x_reconstruct_Var')\n",
    "\n",
    "saver = tf.train.Saver([Input_Var,encoded_Var,x_reconstruct_Var])\n",
    "sess.run(Input_Var.initializer)\n",
    "sess.run(encoded_Var.initializer)\n",
    "sess.run(x_reconstruct_Var.initializer)\n",
    "saver.save(sess, os.path.join(LOG_DIR, 'autoencoder.ckpt'))\n",
    "\n",
    "#在config裡面用一個embedding關聯 tensor & its metadata\n",
    "config = projector.ProjectorConfig()\n",
    "# One can add multiple embeddings.\n",
    "\n",
    "embedding1 = config.embeddings.add()\n",
    "embedding1.tensor_name = Input_Var.name\n",
    "embedding1.metadata_path = metadata_file_path\n",
    "\n",
    "embedding2 = config.embeddings.add()\n",
    "embedding2.tensor_name = encoded_Var.name\n",
    "embedding2.metadata_path = metadata_file_path\n",
    "\n",
    "embedding3 = config.embeddings.add()\n",
    "embedding3.tensor_name = x_reconstruct_Var.name\n",
    "embedding3.metadata_path = metadata_file_path\n",
    "\n",
    "#embedding4 = config.embeddings.add()\n",
    "#embedding4.tensor_name = Out_Var.name\n",
    "#embedding4.metadata_path = metadata_file_path\n",
    "\n",
    "#embedding.sprite.image_path = os.path.join(LOG_DIR, 'img/mnist_10k_sprite.png')\n",
    "# Specify the width and height of a single thumbnail.\n",
    "#embedding.sprite.single_image_dim.extend([28, 28])\n",
    "\n",
    "\n",
    "\n",
    "# Saves a config file that TensorBoard will read during startup.\n",
    "projector.visualize_embeddings(tf.summary.FileWriter(LOG_DIR), config)\n"
   ]
  },
  {
   "cell_type": "code",
   "execution_count": null,
   "metadata": {
    "collapsed": true
   },
   "outputs": [],
   "source": [
    "#!tensorboard --logdir=tb-log0 --port=6006"
   ]
  },
  {
   "cell_type": "markdown",
   "metadata": {},
   "source": [
    "** epoch 15 **\n",
    "![epoch15](img/ae_emd_op15.png)\n",
    "\n",
    "** epoch 30 **\n",
    "![epoch15](img/ae_emd_op30.png)\n",
    "\n",
    "** epoch 60 **\n",
    "![epoch15](img/ae_emd_op60.png)\n",
    "\n",
    "** epoch 150 **\n",
    "![epoch15](img/ae_emd_op150.png)"
   ]
  },
  {
   "cell_type": "code",
   "execution_count": null,
   "metadata": {
    "collapsed": true
   },
   "outputs": [],
   "source": []
  }
 ],
 "metadata": {
  "anaconda-cloud": {},
  "kernelspec": {
   "display_name": "Python [conda root]",
   "language": "python",
   "name": "conda-root-py"
  },
  "language_info": {
   "codemirror_mode": {
    "name": "ipython",
    "version": 3
   },
   "file_extension": ".py",
   "mimetype": "text/x-python",
   "name": "python",
   "nbconvert_exporter": "python",
   "pygments_lexer": "ipython3",
   "version": "3.5.3"
  }
 },
 "nbformat": 4,
 "nbformat_minor": 2
}
