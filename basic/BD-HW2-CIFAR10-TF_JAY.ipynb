{
 "cells": [
  {
   "cell_type": "markdown",
   "metadata": {},
   "source": [
    "## 作業二 - CIFAR10_Softmax_TF "
   ]
  },
  {
   "cell_type": "markdown",
   "metadata": {},
   "source": [
    "CIFAR10 是另外一個 dataset， 和 mnist 一樣，有十種類別（飛機、汽車、鳥、貓、鹿、狗、青蛙、馬、船、卡車）\n",
    "\n",
    "https://www.cs.toronto.edu/~kriz/cifar.html\n"
   ]
  },
  {
   "cell_type": "markdown",
   "metadata": {},
   "source": [
    "<a id='import'></a>\n",
    "## Import Package & Functions"
   ]
  },
  {
   "cell_type": "code",
   "execution_count": null,
   "metadata": {},
   "outputs": [],
   "source": [
    "import keras\n",
    "from keras.models import Sequential\n",
    "from PIL import Image\n",
    "import numpy as np\n",
    "import tarfile\n",
    "import os\n",
    "import urllib\n",
    "from urllib.request import urlretrieve\n",
    "from IPython.display import display\n",
    "import sys\n",
    "import tensorflow as tf"
   ]
  },
  {
   "cell_type": "code",
   "execution_count": null,
   "metadata": {
    "collapsed": true
   },
   "outputs": [],
   "source": [
    "def showX(X):\n",
    "    int_X = (X*255).clip(0,255).astype('uint8')\n",
    "    # N*3072 -> N*3*32*32 -> 32 * 32N * 3\n",
    "    int_X_reshape = np.moveaxis(int_X.reshape(-1,3,32,32), 1, 3)\n",
    "    int_X_reshape = int_X_reshape.swapaxes(0,1).reshape(32,-1, 3)\n",
    "    display(Image.fromarray(int_X_reshape))"
   ]
  },
  {
   "cell_type": "code",
   "execution_count": 42,
   "metadata": {
    "collapsed": true
   },
   "outputs": [],
   "source": [
    "def updateProgress(msg):\n",
    "    sys.stdout.write('\\r')\n",
    "    sys.stdout.write(msg)\n",
    "    sys.stdout.flush()"
   ]
  },
  {
   "cell_type": "markdown",
   "metadata": {},
   "source": [
    "## 1. 下載 dataset"
   ]
  },
  {
   "cell_type": "code",
   "execution_count": 4,
   "metadata": {
    "collapsed": true
   },
   "outputs": [],
   "source": [
    "url = \"https://www.cs.toronto.edu/~kriz/cifar-10-python.tar.gz\"\n",
    "def reporthook(a,b,c):\n",
    "    print(\"\\rdownloading: %5.1f%%\"%(a*b*100.0/c), end=\"\")\n",
    "tar_gz = \"cifar-10-python.tar.gz\"\n",
    "if not os.path.isfile(tar_gz):\n",
    "        print('Downloading data from %s' % url)\n",
    "        urlretrieve(url, tar_gz, reporthook=reporthook)"
   ]
  },
  {
   "cell_type": "code",
   "execution_count": 5,
   "metadata": {},
   "outputs": [
    {
     "name": "stdout",
     "output_type": "stream",
     "text": [
      "load cifar-10-batches-py/data_batch_1\n",
      "load cifar-10-batches-py/data_batch_2\n",
      "load cifar-10-batches-py/data_batch_3\n",
      "load cifar-10-batches-py/data_batch_4\n",
      "load cifar-10-batches-py/data_batch_5\n",
      "load cifar-10-batches-py/test_batch\n"
     ]
    }
   ],
   "source": [
    "# 讀取 dataset\n",
    "# 只有 train 和 test 沒有 validation\n",
    "import pickle\n",
    "train_X=[]\n",
    "train_y=[]\n",
    "tar_gz = \"cifar-10-python.tar.gz\"\n",
    "with tarfile.open(tar_gz) as tarf:\n",
    "    for i in range(1, 6):\n",
    "        dataset = \"cifar-10-batches-py/data_batch_%d\"%i\n",
    "        print(\"load\",dataset)\n",
    "        with tarf.extractfile(dataset) as f:\n",
    "            result = pickle.load(f, encoding='latin1')\n",
    "        train_X.extend(result['data']/255)\n",
    "        train_y.extend(result['labels'])\n",
    "    train_X=np.float32(train_X)\n",
    "    train_y=np.int32(train_y)\n",
    "    dataset = \"cifar-10-batches-py/test_batch\"\n",
    "    print(\"load\",dataset)\n",
    "    with tarf.extractfile(dataset) as f:\n",
    "        result = pickle.load(f, encoding='latin1')\n",
    "        test_X=np.float32(result['data']/255)\n",
    "        test_y=np.int32(result['labels'])\n",
    "train_Y = np.eye(10)[train_y]\n",
    "test_Y = np.eye(10)[test_y]"
   ]
  },
  {
   "cell_type": "markdown",
   "metadata": {},
   "source": [
    "### 查看一下資料"
   ]
  },
  {
   "cell_type": "code",
   "execution_count": 9,
   "metadata": {},
   "outputs": [
    {
     "data": {
      "text/plain": [
       "(50000, 3072)"
      ]
     },
     "execution_count": 9,
     "metadata": {},
     "output_type": "execute_result"
    }
   ],
   "source": [
    "train_X.shape"
   ]
  },
  {
   "cell_type": "code",
   "execution_count": 16,
   "metadata": {},
   "outputs": [
    {
     "data": {
      "text/plain": [
       "3072"
      ]
     },
     "execution_count": 16,
     "metadata": {},
     "output_type": "execute_result"
    }
   ],
   "source": [
    "# channels x 高 x 寬 (顏色)\n",
    "3*32*32"
   ]
  },
  {
   "cell_type": "code",
   "execution_count": 17,
   "metadata": {},
   "outputs": [
    {
     "data": {
      "image/png": "[encoded data removed]",
      "text/plain": [
       "<PIL.Image.Image image mode=RGB size=640x32 at 0x10EA2DD68>"
      ]
     },
     "metadata": {},
     "output_type": "display_data"
    },
    {
     "name": "stdout",
     "output_type": "stream",
     "text": [
      "[6 9 9 4 1 1 2 7 8 3 4 7 7 2 9 9 9 3 2 6]\n",
      "['青蛙' '卡車' '卡車' '鹿' '汽車' '汽車' '鳥' '馬' '船' '貓' '鹿' '馬' '馬' '鳥' '卡車' '卡車'\n",
      " '卡車' '貓' '鳥' '青蛙']\n"
     ]
    }
   ],
   "source": [
    "# 訓練資料， X 的前 20 筆\n",
    "showX(train_X[:20])\n",
    "print(train_y[:20])\n",
    "name_array = np.array(\"飛機、汽車、鳥、貓、鹿、狗、青蛙、馬、船、卡車\".split('、'))\n",
    "print(name_array[train_y[:20]])"
   ]
  },
  {
   "cell_type": "markdown",
   "metadata": {},
   "source": [
    "<a id='開始Machine Learning'></a>\n",
    "## 2. 開始Machine Learning - Softmax regression \n",
    "- Machine Learning ABC \n",
    "    -  [A. 定義參數](#定義參數) \n",
    "    -  [B. 設計一個Model從X預測Y](#設計一個) \n",
    "    -  [C. 選一個loss function,](#選一個loss) \n",
    "    -  [D. 選一個optimizer](#選一個o) \n",
    "    -  [E. 開始執行訓練](#開始執行) \n",
    "    -  [F. 算一下正確率](#算一下正)  "
   ]
  },
  {
   "cell_type": "markdown",
   "metadata": {},
   "source": [
    "## Q \n",
    "* 將之前的 logistic regression 套用過來看看\n",
    "* 試試看改善準確度\n",
    "* activation 換成其他的？\n",
    "* optimizer 換成其他的？\n",
    "* loss function 換成其他的？"
   ]
  },
  {
   "cell_type": "code",
   "execution_count": 26,
   "metadata": {},
   "outputs": [],
   "source": [
    "tf.reset_default_graph()\n",
    "# 輸入的 placeholder\n",
    "X = tf.placeholder(tf.float32, shape=[None, 3072], name=\"X\")\n",
    "# 權重參數，為了計算方便和一些慣例（行向量及列向量的差異），矩陣乘法的方向和上面解說相反\n",
    "W = tf.Variable(tf.zeros([3072, 10]), name='W')\n",
    "b = tf.Variable(tf.zeros([10]), name='b') # 這裡可以看成是列向量\n",
    "\n",
    "# 真正的 Y\n",
    "Y_ = tf.placeholder(tf.float32, shape=[None, 10], name=\"Y_\")\n"
   ]
  },
  {
   "cell_type": "code",
   "execution_count": 29,
   "metadata": {
    "collapsed": true
   },
   "outputs": [],
   "source": [
    "Y= tf.add(x= tf.matmul(X, W, name='e'), y=b, name='Y')\n",
    "Y_softmax = tf.nn.softmax(Y, name='Y_softmax') #這個是one-hot的格式\n",
    "\n",
    "Y_softmax_argmax = tf.argmax(Y_softmax, axis=1) #從one-hot的格式找出最大那個\n",
    "#Y_softmax = tf.div(Y, tf.reduce_sum(Y, axis=1, keep_dims=True), name=\"Y_softmax\")\n",
    "correct_prediction = tf.equal(Y_softmax_argmax, tf.argmax(Y_, 1))\n",
    "accuracy = tf.reduce_mean(tf.cast(correct_prediction, \"float\"))\n"
   ]
  },
  {
   "cell_type": "code",
   "execution_count": 30,
   "metadata": {
    "collapsed": true
   },
   "outputs": [],
   "source": [
    "#loss_fun = tf.reduce_mean(tf.squared_difference(Y_softmax, Y_))\n",
    "#loss_fun = tf.reduce_mean(-tf.reduce_sum(Y_*tf.log(Y_softmax), axis=1))\n",
    "# or\n",
    "loss_fun = tf.reduce_mean(tf.nn.softmax_cross_entropy_with_logits(labels=Y_, logits=Y))\n"
   ]
  },
  {
   "cell_type": "code",
   "execution_count": 34,
   "metadata": {
    "collapsed": true
   },
   "outputs": [],
   "source": [
    "learning_rate = 0.01\n",
    "optimizer = tf.train.GradientDescentOptimizer(learning_rate).minimize(loss_fun)\n",
    "optimizer = tf.train.AdamOptimizer(learning_rate).minimize(loss_fun)"
   ]
  },
  {
   "cell_type": "code",
   "execution_count": 35,
   "metadata": {
    "collapsed": true
   },
   "outputs": [],
   "source": [
    "#先創造一個session, 然後記得要init variable\n",
    "sess = tf.InteractiveSession()\n",
    "tf.global_variables_initializer().run()"
   ]
  },
  {
   "cell_type": "code",
   "execution_count": 43,
   "metadata": {},
   "outputs": [
    {
     "name": "stdout",
     "output_type": "stream",
     "text": [
      "ep:0, loss:1.8515654802322388, acc:0.34970000386238124\n",
      "ep:1, loss:1.7926414012908936, acc:0.38159999251365666\n",
      "ep:2, loss:1.826781988143921, acc:0.337399989366531375\n"
     ]
    }
   ],
   "source": [
    "epoch = 10\n",
    "for ep in range(epoch):\n",
    "    for i in range(1000):\n",
    "        rnd_idx = np.random.choice(train_X.shape[0], 50, replace=False)\n",
    "        optimizer.run(feed_dict={X: train_X[rnd_idx], Y_:train_Y[rnd_idx]})\n",
    "        if i%100 ==0:\n",
    "            a = accuracy.eval({X: test_X , Y_: test_Y})\n",
    "            l=loss_fun.eval({X: test_X , Y_: test_Y})\n",
    "            updateProgress('ep:{x0}, loss:{x3}, acc:{x2}'.format(x0=ep,x1=i,x2=a,x3=l))\n",
    "    print()\n"
   ]
  },
  {
   "cell_type": "code",
   "execution_count": 46,
   "metadata": {},
   "outputs": [
    {
     "name": "stdout",
     "output_type": "stream",
     "text": [
      "Accuracy: 0.3634\n"
     ]
    }
   ],
   "source": [
    "# predict all X and get the accuracy\n",
    "_ = accuracy.eval({X: test_X , Y_: test_Y})\n",
    "print('Accuracy:',_)"
   ]
  }
 ],
 "metadata": {
  "kernelspec": {
   "display_name": "Python [default]",
   "language": "python",
   "name": "python3"
  },
  "language_info": {
   "codemirror_mode": {
    "name": "ipython",
    "version": 3
   },
   "file_extension": ".py",
   "mimetype": "text/x-python",
   "name": "python",
   "nbconvert_exporter": "python",
   "pygments_lexer": "ipython3",
   "version": "3.5.3"
  }
 },
 "nbformat": 4,
 "nbformat_minor": 1
}
