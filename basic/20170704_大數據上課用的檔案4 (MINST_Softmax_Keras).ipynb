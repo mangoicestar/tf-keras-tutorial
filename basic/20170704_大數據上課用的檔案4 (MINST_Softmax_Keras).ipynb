{
 "cells": [
  {
   "cell_type": "markdown",
   "metadata": {},
   "source": [
    "## MNIST 手寫數字辨識 (MINST_Softmax_Keras)\n",
    "2017/07/02  \n",
    "徐仕杰"
   ]
  },
  {
   "cell_type": "markdown",
   "metadata": {},
   "source": [
    "## Outline\n",
    "\n",
    "-  [Import Package & Functions](#import) \n",
    "-  [1. 先把MNIST資料讀進來](#先把MNIST資料讀進來) \n",
    "-  [2. 開始Machine Learning - Softmax regression](#開始Machine Learning)  \n",
    "  -  [A. 定義參數](#定義參數) \n",
    "  -  [B. 設計一個Model從X預測Y](#設計一個) \n",
    "  -  [C. 選一個loss function,](#選一個loss) \n",
    "  -  [D. 選一個optimizer](#選一個optimizer) \n",
    "  -  [E. 開始執行訓練](#開始執行) \n",
    "  -  [F. 算一下正確率](#算一下正)  \n"
   ]
  },
  {
   "cell_type": "markdown",
   "metadata": {},
   "source": [
    "<a id='import'></a>\n",
    "## Import Package & Functions"
   ]
  },
  {
   "cell_type": "code",
   "execution_count": 8,
   "metadata": {},
   "outputs": [],
   "source": [
    "import os\n",
    "from PIL import Image\n",
    "import numpy as np\n",
    "import lzma\n",
    "import pickle\n",
    "from IPython.display import SVG, display\n",
    "\n",
    "import keras\n",
    "from keras.models import Sequential\n",
    "from keras.layers import Dense, Activation\n",
    "from keras.utils.vis_utils import model_to_dot\n",
    "\n",
    "os.environ['KERAS_BACKEND']='tensorflow'\n",
    "#os.environ['KERAS_BACKEND']='theano'\n",
    "#os.environ['THEANO_FLAGS']='floatX=float32, device=cuda'"
   ]
  },
  {
   "cell_type": "code",
   "execution_count": 57,
   "metadata": {
    "collapsed": true
   },
   "outputs": [],
   "source": [
    "def showX(X):\n",
    "    int_X = (X*255).clip(0,255).astype('uint8')\n",
    "    # N*784 -> N*28*28 -> 28*N*28 -> 28 * 28N\n",
    "    int_X_reshape = int_X.reshape(-1,28,28).swapaxes(0,1).reshape(28,-1)\n",
    "    display(Image.fromarray(int_X_reshape))"
   ]
  },
  {
   "cell_type": "markdown",
   "metadata": {},
   "source": [
    "<a id='先把MNIST資料讀進來'></a>\n",
    "## 1. 先把MNIST資料讀進來\n",
    "- Training Data: 訓練Model\n",
    "- Validataion Data: 訓練Model的時候, 同步監控目前模型的好壞\n",
    "- Testing Data: 訓練結束後, 評估模型的好壞  \n",
    "<br>\n",
    "- Label要轉成one-hot格式"
   ]
  },
  {
   "cell_type": "code",
   "execution_count": 6,
   "metadata": {
    "collapsed": true
   },
   "outputs": [],
   "source": [
    "with lzma.open(\"mnist.pkl.xz\", 'rb') as f:\n",
    "    train_set, validation_set, test_set = pickle.load(f, encoding='latin1')\n",
    "\n",
    "train_X, train_y = train_set\n",
    "validation_X, validation_y = validation_set\n",
    "test_X, test_y = test_set\n",
    "\n",
    "#把Y label變成one-hot representation¶\n",
    "train_Y = np.eye(10)[train_y]\n",
    "test_Y = np.eye(10)[test_y]\n",
    "validation_Y = np.eye(10)[validation_y]"
   ]
  },
  {
   "cell_type": "markdown",
   "metadata": {},
   "source": [
    "<a id='開始Machine Learning'></a>\n",
    "## 2. 開始Machine Learning - Softmax regression\n",
    "-  [A. 定義參數](#) \n",
    "-  [B. 設計一個Model從X預測Y](#) \n",
    "-  [C. 選一個cost/loss function,](#) \n",
    "-  [D. 選一個optimizer](#) \n",
    "-  [E. 開始執行訓練](#) \n",
    "-  [F. 算一下正確率](#)  \n"
   ]
  },
  {
   "cell_type": "markdown",
   "metadata": {},
   "source": [
    "<a id='定義參數'></a>\n",
    "### A. 定義參數\n",
    "- Keras不用先定義X,Y, W, B這些參數"
   ]
  },
  {
   "cell_type": "markdown",
   "metadata": {},
   "source": [
    "<a id='設計一個'></a>\n",
    "### B. 設計一個Model從X預測Y  ($Y = softmax(WX+B)$)\n",
    "- 簡單回歸 $Y_t = WX+B$\n",
    "- softmax迴歸(logistic迴歸) $ Y =softmax(Y_t)$"
   ]
  },
  {
   "cell_type": "code",
   "execution_count": 46,
   "metadata": {},
   "outputs": [
    {
     "data": {
      "image/svg+xml": [
       "<svg height=\"215pt\" viewBox=\"0.00 0.00 314.56 215.00\" width=\"315pt\" xmlns=\"http://www.w3.org/2000/svg\" xmlns:xlink=\"http://www.w3.org/1999/xlink\">\n",
       "<g class=\"graph\" id=\"graph0\" transform=\"scale(1 1) rotate(0) translate(4 211)\">\n",
       "<title>G</title>\n",
       "<polygon fill=\"white\" points=\"-4,4 -4,-211 310.556,-211 310.556,4 -4,4\" stroke=\"none\"/>\n",
       "<!-- 4757383880 -->\n",
       "<g class=\"node\" id=\"node1\"><title>4757383880</title>\n",
       "<polygon fill=\"none\" points=\"0,-162.5 0,-206.5 306.556,-206.5 306.556,-162.5 0,-162.5\" stroke=\"black\"/>\n",
       "<text font-family=\"Times,serif\" font-size=\"14.00\" text-anchor=\"middle\" x=\"83.6191\" y=\"-180.3\">dense_7_input: InputLayer</text>\n",
       "<polyline fill=\"none\" points=\"167.238,-162.5 167.238,-206.5 \" stroke=\"black\"/>\n",
       "<text font-family=\"Times,serif\" font-size=\"14.00\" text-anchor=\"middle\" x=\"195.073\" y=\"-191.3\">input:</text>\n",
       "<polyline fill=\"none\" points=\"167.238,-184.5 222.907,-184.5 \" stroke=\"black\"/>\n",
       "<text font-family=\"Times,serif\" font-size=\"14.00\" text-anchor=\"middle\" x=\"195.073\" y=\"-169.3\">output:</text>\n",
       "<polyline fill=\"none\" points=\"222.907,-162.5 222.907,-206.5 \" stroke=\"black\"/>\n",
       "<text font-family=\"Times,serif\" font-size=\"14.00\" text-anchor=\"middle\" x=\"264.731\" y=\"-191.3\">(None, 784)</text>\n",
       "<polyline fill=\"none\" points=\"222.907,-184.5 306.556,-184.5 \" stroke=\"black\"/>\n",
       "<text font-family=\"Times,serif\" font-size=\"14.00\" text-anchor=\"middle\" x=\"264.731\" y=\"-169.3\">(None, 784)</text>\n",
       "</g>\n",
       "<!-- 4757381752 -->\n",
       "<g class=\"node\" id=\"node2\"><title>4757381752</title>\n",
       "<polygon fill=\"none\" points=\"31.4932,-81.5 31.4932,-125.5 275.062,-125.5 275.062,-81.5 31.4932,-81.5\" stroke=\"black\"/>\n",
       "<text font-family=\"Times,serif\" font-size=\"14.00\" text-anchor=\"middle\" x=\"83.6191\" y=\"-99.3\">dense_7: Dense</text>\n",
       "<polyline fill=\"none\" points=\"135.745,-81.5 135.745,-125.5 \" stroke=\"black\"/>\n",
       "<text font-family=\"Times,serif\" font-size=\"14.00\" text-anchor=\"middle\" x=\"163.58\" y=\"-110.3\">input:</text>\n",
       "<polyline fill=\"none\" points=\"135.745,-103.5 191.414,-103.5 \" stroke=\"black\"/>\n",
       "<text font-family=\"Times,serif\" font-size=\"14.00\" text-anchor=\"middle\" x=\"163.58\" y=\"-88.3\">output:</text>\n",
       "<polyline fill=\"none\" points=\"191.414,-81.5 191.414,-125.5 \" stroke=\"black\"/>\n",
       "<text font-family=\"Times,serif\" font-size=\"14.00\" text-anchor=\"middle\" x=\"233.238\" y=\"-110.3\">(None, 784)</text>\n",
       "<polyline fill=\"none\" points=\"191.414,-103.5 275.062,-103.5 \" stroke=\"black\"/>\n",
       "<text font-family=\"Times,serif\" font-size=\"14.00\" text-anchor=\"middle\" x=\"233.238\" y=\"-88.3\">(None, 10)</text>\n",
       "</g>\n",
       "<!-- 4757383880&#45;&gt;4757381752 -->\n",
       "<g class=\"edge\" id=\"edge1\"><title>4757383880-&gt;4757381752</title>\n",
       "<path d=\"M153.278,-162.329C153.278,-154.183 153.278,-144.699 153.278,-135.797\" fill=\"none\" stroke=\"black\"/>\n",
       "<polygon fill=\"black\" points=\"156.778,-135.729 153.278,-125.729 149.778,-135.729 156.778,-135.729\" stroke=\"black\"/>\n",
       "</g>\n",
       "<!-- 4757381360 -->\n",
       "<g class=\"node\" id=\"node3\"><title>4757381360</title>\n",
       "<polygon fill=\"none\" points=\"11.6587,-0.5 11.6587,-44.5 294.897,-44.5 294.897,-0.5 11.6587,-0.5\" stroke=\"black\"/>\n",
       "<text font-family=\"Times,serif\" font-size=\"14.00\" text-anchor=\"middle\" x=\"87.1191\" y=\"-18.3\">activation_7: Activation</text>\n",
       "<polyline fill=\"none\" points=\"162.58,-0.5 162.58,-44.5 \" stroke=\"black\"/>\n",
       "<text font-family=\"Times,serif\" font-size=\"14.00\" text-anchor=\"middle\" x=\"190.414\" y=\"-29.3\">input:</text>\n",
       "<polyline fill=\"none\" points=\"162.58,-22.5 218.249,-22.5 \" stroke=\"black\"/>\n",
       "<text font-family=\"Times,serif\" font-size=\"14.00\" text-anchor=\"middle\" x=\"190.414\" y=\"-7.3\">output:</text>\n",
       "<polyline fill=\"none\" points=\"218.249,-0.5 218.249,-44.5 \" stroke=\"black\"/>\n",
       "<text font-family=\"Times,serif\" font-size=\"14.00\" text-anchor=\"middle\" x=\"256.573\" y=\"-29.3\">(None, 10)</text>\n",
       "<polyline fill=\"none\" points=\"218.249,-22.5 294.897,-22.5 \" stroke=\"black\"/>\n",
       "<text font-family=\"Times,serif\" font-size=\"14.00\" text-anchor=\"middle\" x=\"256.573\" y=\"-7.3\">(None, 10)</text>\n",
       "</g>\n",
       "<!-- 4757381752&#45;&gt;4757381360 -->\n",
       "<g class=\"edge\" id=\"edge2\"><title>4757381752-&gt;4757381360</title>\n",
       "<path d=\"M153.278,-81.3294C153.278,-73.1826 153.278,-63.6991 153.278,-54.7971\" fill=\"none\" stroke=\"black\"/>\n",
       "<polygon fill=\"black\" points=\"156.778,-54.729 153.278,-44.729 149.778,-54.729 156.778,-54.729\" stroke=\"black\"/>\n",
       "</g>\n",
       "</g>\n",
       "</svg>"
      ],
      "text/plain": [
       "<IPython.core.display.SVG object>"
      ]
     },
     "execution_count": 46,
     "metadata": {},
     "output_type": "execute_result"
    }
   ],
   "source": [
    "#model = Sequential()\n",
    "#model.add(Dense(units=10, input_dim=784)) #units是輸出的維度, input_dim是輸入維度\n",
    "#model.add(Activation('relu'))\n",
    "#model.add(Dense(units=10, input_dim=100)) #units是輸出的維度, input_dim是輸入維度\n",
    "#model.add(Activation('softmax'))\n",
    "model = Sequential()\n",
    "model.add(Dense(units=10, input_dim=784))\n",
    "model.add(Activation('softmax'))\n",
    "SVG(model_to_dot(model, show_shapes=True).create(prog='dot', format='svg'))"
   ]
  },
  {
   "cell_type": "markdown",
   "metadata": {},
   "source": [
    "<a id='選一個loss'></a>\n",
    "###  C. 選一個loss function, 當作Machine learning的目標\n",
    "- Available loss functions\n",
    "https://keras.io/losses/  \n",
    "\n",
    "<a id='選一個optimizer'></a>\n",
    "### D. 選一個optimizer, 根據Data和我們訂的目標找參數W, B\n",
    "- Avaliable optimizer\n",
    "https://keras.io/optimizers/"
   ]
  },
  {
   "cell_type": "code",
   "execution_count": 47,
   "metadata": {},
   "outputs": [],
   "source": [
    "model.compile(loss='categorical_crossentropy',  \n",
    "              optimizer='sgd',\n",
    "              metrics=['accuracy'])"
   ]
  },
  {
   "cell_type": "markdown",
   "metadata": {},
   "source": [
    "<a id='開始執行'></a>\n",
    "### E. 開始執行訓練"
   ]
  },
  {
   "cell_type": "code",
   "execution_count": 53,
   "metadata": {},
   "outputs": [
    {
     "name": "stdout",
     "output_type": "stream",
     "text": [
      "Train on 50000 samples, validate on 10000 samples\n",
      "Epoch 1/10\n",
      "50000/50000 [==============================] - 3s - loss: 0.9862 - acc: 0.7674 - val_loss: 0.5773 - val_acc: 0.8706\n",
      "Epoch 2/10\n",
      "50000/50000 [==============================] - 2s - loss: 0.5538 - acc: 0.8625 - val_loss: 0.4558 - val_acc: 0.8899\n",
      "Epoch 3/10\n",
      "50000/50000 [==============================] - 2s - loss: 0.4742 - acc: 0.8765 - val_loss: 0.4087 - val_acc: 0.8961\n",
      "Epoch 4/10\n",
      "50000/50000 [==============================] - 2s - loss: 0.4352 - acc: 0.8836 - val_loss: 0.3818 - val_acc: 0.9014\n",
      "Epoch 5/10\n",
      "50000/50000 [==============================] - 2s - loss: 0.4111 - acc: 0.8892 - val_loss: 0.3651 - val_acc: 0.9042\n",
      "Epoch 6/10\n",
      "50000/50000 [==============================] - 2s - loss: 0.3942 - acc: 0.8927 - val_loss: 0.3525 - val_acc: 0.9062\n",
      "Epoch 7/10\n",
      "50000/50000 [==============================] - 2s - loss: 0.3815 - acc: 0.8958 - val_loss: 0.3434 - val_acc: 0.9083\n",
      "Epoch 8/10\n",
      "50000/50000 [==============================] - 2s - loss: 0.3715 - acc: 0.8983 - val_loss: 0.3359 - val_acc: 0.9089\n",
      "Epoch 9/10\n",
      "50000/50000 [==============================] - 2s - loss: 0.3634 - acc: 0.9001 - val_loss: 0.3296 - val_acc: 0.9100\n",
      "Epoch 10/10\n",
      "50000/50000 [==============================] - 2s - loss: 0.3565 - acc: 0.9011 - val_loss: 0.3245 - val_acc: 0.9107\n"
     ]
    },
    {
     "data": {
      "text/plain": [
       "<keras.callbacks.History at 0x11bc09da0>"
      ]
     },
     "execution_count": 53,
     "metadata": {},
     "output_type": "execute_result"
    }
   ],
   "source": [
    "model.fit(x=train_X, y=train_Y, validation_data=(validation_X, validation_Y), batch_size=50, epochs=10)"
   ]
  },
  {
   "cell_type": "markdown",
   "metadata": {},
   "source": [
    "<a id='算一下正'></a>\n",
    "### F. 算一下正確率Accuracy\n",
    "- testing data"
   ]
  },
  {
   "cell_type": "code",
   "execution_count": 59,
   "metadata": {},
   "outputs": [
    {
     "name": "stdout",
     "output_type": "stream",
     "text": [
      "20/20 [==============================] - 0s\n",
      "predict: [7 2 1 0 4 1 4 9 6 9 0 6 9 0 1 5 9 7 3 4]\n"
     ]
    },
    {
     "data": {
      "image/png": "[encoded data removed]",
      "text/plain": [
       "<PIL.Image.Image image mode=L size=560x28 at 0x11B9B44A8>"
      ]
     },
     "metadata": {},
     "output_type": "display_data"
    },
    {
     "name": "stdout",
     "output_type": "stream",
     "text": [
      "answer: [7 2 1 0 4 1 4 9 5 9 0 6 9 0 1 5 9 7 3 4]\n"
     ]
    }
   ],
   "source": [
    "# 預測看看測次資料 test_X 前 20 筆\n",
    "print('predict:',model.predict_classes(test_X[:20]))\n",
    "showX(test_X[:20])\n",
    "# 對答案\n",
    "print('answer:',test_y[:20])"
   ]
  },
  {
   "cell_type": "code",
   "execution_count": 55,
   "metadata": {},
   "outputs": [
    {
     "name": "stdout",
     "output_type": "stream",
     "text": [
      " 8736/10000 [=========================>....] - ETA: 0s\n",
      "Accuracy: 0.9103\n"
     ]
    }
   ],
   "source": [
    "# 看看 test accuracy\n",
    "loss, acc = model.evaluate(test_X, test_Y)\n",
    "print('\\nAccuracy:',acc)"
   ]
  }
 ],
 "metadata": {
  "kernelspec": {
   "display_name": "Python [conda root]",
   "language": "python",
   "name": "conda-root-py"
  },
  "language_info": {
   "codemirror_mode": {
    "name": "ipython",
    "version": 3
   },
   "file_extension": ".py",
   "mimetype": "text/x-python",
   "name": "python",
   "nbconvert_exporter": "python",
   "pygments_lexer": "ipython3",
   "version": "3.5.3"
  }
 },
 "nbformat": 4,
 "nbformat_minor": 2
}
