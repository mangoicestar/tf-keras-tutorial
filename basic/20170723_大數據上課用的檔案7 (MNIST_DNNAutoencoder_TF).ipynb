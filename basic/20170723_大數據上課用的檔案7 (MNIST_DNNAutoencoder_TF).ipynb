{
 "cells": [
  {
   "cell_type": "markdown",
   "metadata": {},
   "source": [
    "# MNIST 手寫數字辨識 (MNIST_Autoencoder_TF)\n",
    "\n",
    "2017/07/23  \n",
    "徐仕杰"
   ]
  },
  {
   "cell_type": "markdown",
   "metadata": {},
   "source": [
    "### 目標"
   ]
  },
  {
   "cell_type": "markdown",
   "metadata": {},
   "source": [
    "** Motivation **   \n",
    "- 有大量的Labeling Data -> Supervising learning, ex: MNIST Data set    \n",
    "- 當labeling data很少時怎麼辦？ ex:只有1000張labeled Mnist圖片,  但是有49000張unlabeled的Mnist圖片  \n",
    "    1. 只用1000張labeled Mnist圖片訓練 -> Supervised Learning, 正確率會很低, (DNN 784->600->480->10, acc: 87.6%)  \n",
    "\n",
    "    2. 用全部的資料訓練\n",
    "      - 利用49000張unlabeled的Mnist圖片先找到一些圖片共通的特徵 -> Unsupervised learning  \n",
    "         - encoder 784->500->250->30  \n",
    "         - decoder 30->250->500->784\n",
    "      - 再用1000張labeled Mnist圖片訓練  \n",
    "         - Encoder + Logistic Regression: 30->10, acc: 93.1％  \n",
    "\n",
    "\n",
    "** How? **  \n",
    "- 一般方法: PCA  \n",
    "- $\\color{blue}{NN方法：Autoencoder (Deep Autoencoder)}$\n",
    "\n",
    "\n",
    "** Network Structure **  \n",
    "- Autoencoder + \n",
    "- Classifier\n"
   ]
  },
  {
   "cell_type": "code",
   "execution_count": null,
   "metadata": {
    "collapsed": true
   },
   "outputs": [],
   "source": []
  },
  {
   "attachments": {},
   "cell_type": "markdown",
   "metadata": {},
   "source": [
    "![](img/autoencoder_1.png)\n",
    "\n",
    "\n",
    "![](img/autoencoder_2.png)\n",
    "\n",
    ">Reference: Hinton, Geoffrey E., and Ruslan R. Salakhutdinov. \"Reducing the dimensionality of data with neural networks.\" Science 313.5786 (2006): 504-507   \n",
    "\n",
    ">李宏毅:會加上比 input 寬的 layer 是為了考慮 feature 不同的 dimension 之間的 interaction ，就好像是 SVM 的 kernel 一樣，先把輸入投影到高維空間"
   ]
  },
  {
   "cell_type": "markdown",
   "metadata": {},
   "source": [
    "### Tips:\n",
    "- 記得要download data set: \n",
    "[Mnist](https://github.com/Backlu/tf-keras-tutorial/blob/master/basic/mnist.pkl.xz)\n",
    "- 在command前面加** ! **可以執行console command\n",
    "- 在command前面加** ? **可以查詢Help\n",
    "- 什麼是one-hot representation:\n",
    "[one-hot](https://www.quora.com/What-is-one-hot-encoding-and-when-is-it-used-in-data-science)  \n",
    "- 好用的markdown語法\n",
    "[markdown](https://www.zybuluo.com/codeep/note/163962#1如何输入一个方程式序列)  \n",
    "<br>\n",
    "- import PIL error : pip install Pillow\n",
    "- import pandas error: pip install pandas\n",
    "- import lzma error: 請用python 3\n",
    "\n"
   ]
  },
  {
   "cell_type": "markdown",
   "metadata": {},
   "source": [
    "## Outline\n",
    "\n",
    "-  [Import Package & Functions](#import) \n",
    "-  [1. Import MNIST Data](#Data) \n",
    "-  [2. Modeling](#Model)  \n",
    "-  [3. Training](#Training)\n",
    "-  [4. Visualization- Tensorboard](#visualization)"
   ]
  },
  {
   "cell_type": "markdown",
   "metadata": {},
   "source": [
    "<a id='import'></a>\n",
    "## Import Package & Functions"
   ]
  },
  {
   "cell_type": "code",
   "execution_count": 1,
   "metadata": {
    "collapsed": true
   },
   "outputs": [],
   "source": [
    "import pandas as pd\n",
    "import os\n",
    "import sys\n",
    "from PIL import Image\n",
    "import numpy as np\n",
    "import lzma\n",
    "import pickle\n",
    "from IPython.display import display\n",
    "import tensorflow as tf\n",
    "from tfdot import tfdot\n",
    "from tensorflow.contrib.tensorboard.plugins import projector\n",
    "import shutil\n",
    "import matplotlib.pyplot as plt\n",
    "from PIL import Image\n",
    "import warnings\n",
    "from sklearn import preprocessing\n",
    "from functools import reduce"
   ]
  },
  {
   "cell_type": "code",
   "execution_count": 2,
   "metadata": {
    "collapsed": true
   },
   "outputs": [],
   "source": [
    "def showX(X, rows=1):\n",
    "    assert X.shape[0] % rows == 0\n",
    "    int_X = (X*255).clip(0,255).astype('uint8')\n",
    "    # N*784 -> N*28*28 -> 28*N*28 -> 28 * 28N\n",
    "    int_X_reshape = int_X.reshape(rows, -1,28,28).swapaxes(1,2).reshape(28*rows,-1)\n",
    "    display(Image.fromarray(int_X_reshape))"
   ]
  },
  {
   "cell_type": "code",
   "execution_count": 3,
   "metadata": {
    "collapsed": true
   },
   "outputs": [],
   "source": [
    "def updateProgress(msg):\n",
    "    sys.stdout.write('\\r')\n",
    "    sys.stdout.write(msg)\n",
    "    sys.stdout.flush()"
   ]
  },
  {
   "cell_type": "code",
   "execution_count": 4,
   "metadata": {
    "collapsed": true
   },
   "outputs": [],
   "source": [
    "def variable_summaries(var, name):  \n",
    "    with tf.name_scope('summaries_'+str(name)):  \n",
    "        mean = tf.reduce_mean(var)  \n",
    "        tf.summary.scalar('mean', mean)  \n",
    "        stddev = tf.sqrt(tf.reduce_mean(tf.square(var - mean)))  \n",
    "        tf.summary.scalar('stddev', stddev)  \n",
    "        tf.summary.scalar('max', tf.reduce_max(var))  \n",
    "        tf.summary.scalar('min', tf.reduce_min(var))  \n",
    "        tf.summary.histogram('histogram', var)  "
   ]
  },
  {
   "cell_type": "code",
   "execution_count": 5,
   "metadata": {
    "collapsed": true
   },
   "outputs": [],
   "source": [
    "def weight_variable(shape, name):\n",
    "    return tf.Variable(tf.truncated_normal(shape = shape, stddev = 0.1), name)\n",
    "def bias_variable(shape, name):\n",
    "    return tf.Variable(tf.truncated_normal(shape = shape, stddev = 0.1), name)"
   ]
  },
  {
   "cell_type": "code",
   "execution_count": 6,
   "metadata": {
    "collapsed": true
   },
   "outputs": [],
   "source": [
    "def kl_div(rho, rho_hat):\n",
    "    invrho = tf.subtract(tf.constant(1.), rho)\n",
    "    invrhohat = tf.subtract(tf.constant(1.), rho_hat)\n",
    "    logrho = tf.add(logfunc(rho,rho_hat), logfunc(invrho, invrhohat))\n",
    "    return logrho\n",
    "    \n",
    "def logfunc(x, x2):\n",
    "    return tf.multiply( x, tf.log(tf.div(x,x2)))"
   ]
  },
  {
   "cell_type": "markdown",
   "metadata": {},
   "source": [
    "<a id='Data'></a>\n",
    "## 1. Import MNIST Data"
   ]
  },
  {
   "cell_type": "markdown",
   "metadata": {},
   "source": [
    "#### 先把MNIST資料讀進來\n",
    "- Training Data: 訓練Model\n",
    "- Validataion Data: 訓練Model的時候, 同步監控目前模型的好壞\n",
    "- Testing Data: 訓練結束後, 評估模型的好壞"
   ]
  },
  {
   "cell_type": "code",
   "execution_count": 7,
   "metadata": {},
   "outputs": [
    {
     "name": "stdout",
     "output_type": "stream",
     "text": [
      "list裡的前面是picture X [[ 0.  0.  0. ...,  0.  0.  0.]\n",
      " [ 0.  0.  0. ...,  0.  0.  0.]\n",
      " [ 0.  0.  0. ...,  0.  0.  0.]\n",
      " ..., \n",
      " [ 0.  0.  0. ...,  0.  0.  0.]\n",
      " [ 0.  0.  0. ...,  0.  0.  0.]\n",
      " [ 0.  0.  0. ...,  0.  0.  0.]]\n",
      "後面是label Y [5 0 4 ..., 8 4 8]\n"
     ]
    }
   ],
   "source": [
    "with lzma.open(\"mnist.pkl.xz\", 'rb') as f:\n",
    "    train_set, validation_set, test_set = pickle.load(f, encoding='latin1')\n",
    "\n",
    "print('list裡的前面是picture X',train_set[0])\n",
    "print('後面是label Y',train_set[1])\n"
   ]
  },
  {
   "cell_type": "code",
   "execution_count": 8,
   "metadata": {},
   "outputs": [
    {
     "name": "stdout",
     "output_type": "stream",
     "text": [
      "training data size: 50000\n",
      "validataion data size: 10000\n",
      "testing data size: 10000\n",
      "picture shape: (784,)\n"
     ]
    }
   ],
   "source": [
    "train_X, train_y = train_set\n",
    "validation_X, validation_y = validation_set\n",
    "test_X, test_y = test_set\n",
    "print('training data size:',len(train_X))\n",
    "print('validataion data size:',len(validation_X))\n",
    "print('testing data size:',len(test_X))\n",
    "print('picture shape:',train_X[0].shape)"
   ]
  },
  {
   "cell_type": "markdown",
   "metadata": {},
   "source": [
    "#### 把Y label變成one-hot representation"
   ]
  },
  {
   "cell_type": "code",
   "execution_count": 9,
   "metadata": {
    "collapsed": true
   },
   "outputs": [],
   "source": [
    "train_Y = np.eye(10)[train_y]\n",
    "test_Y = np.eye(10)[test_y]\n",
    "validation_Y = np.eye(10)[validation_y]"
   ]
  },
  {
   "cell_type": "markdown",
   "metadata": {},
   "source": [
    "<a id='Model'></a>\n",
    "## 2. Modeling\n"
   ]
  },
  {
   "cell_type": "markdown",
   "metadata": {},
   "source": [
    "- Autoencoder \n",
    "    -  [Parameters](#定義參數) \n",
    "    -  [Autoencoder modeling - Network Structure](#設計一個) \n",
    "    -  [Autoencoder modeling - Loss Function & Optimizer](#選一個loss) \n",
    "    -  [Autoencoder training](#選一個o) \n",
    "    -  [Autoencoder - test](#開始執行)   \n",
    "- Classifier       \n",
    "    -  [Classifier modeling - Network Structure](#算一下正)  \n",
    "    -  [Classifier modeling - loss function and Optimizer](#)\n",
    "    -  [Classifier training](#)\n",
    "    -  [Classifier testing](#)"
   ]
  },
  {
   "cell_type": "markdown",
   "metadata": {},
   "source": [
    "** Parameters **"
   ]
  },
  {
   "cell_type": "code",
   "execution_count": 10,
   "metadata": {},
   "outputs": [],
   "source": [
    "tf.reset_default_graph()\n",
    "X =tf.placeholder(tf.float32, [None, 784], name=\"X\")\n",
    "Y_ = tf.placeholder(tf.float32, shape=[None, 10], name=\"Y_\")"
   ]
  },
  {
   "cell_type": "markdown",
   "metadata": {},
   "source": [
    "** Autoencoder modeling - Network Structure **"
   ]
  },
  {
   "cell_type": "markdown",
   "metadata": {},
   "source": [
    "encoded_neural = 30\n",
    "def build_sae():\n",
    "    W_e_1 = weight_variable([784, 1000], \"w_e_1\")\n",
    "    b_e_1 = bias_variable([1000], \"b_e_1\")\n",
    "    h_e_1 = tf.nn.sigmoid(tf.add(tf.matmul(X, W_e_1), b_e_1))\n",
    "\n",
    "    W_e_2 = weight_variable([1000, 500], \"w_e_2\")\n",
    "    b_e_2 = bias_variable([500], \"b_e_2\")\n",
    "    h_e_2 = tf.nn.sigmoid(tf.add(tf.matmul(h_e_1, W_e_2), b_e_2))\n",
    "    \n",
    "    W_e_3 = weight_variable([500, 250], \"w_e_3\")\n",
    "    b_e_3 = bias_variable([250], \"b_e_3\")\n",
    "    h_e_3 = tf.nn.sigmoid(tf.add(tf.matmul(h_e_2, W_e_3), b_e_3))\n",
    "    \n",
    "    W_e_4 = weight_variable([250, encoded_neural], \"w_e_4\")\n",
    "    b_e_4 = bias_variable([encoded_neural], \"b_e_4\")\n",
    "    h_e_4 = tf.nn.sigmoid(tf.add(tf.matmul(h_e_3, W_e_4), b_e_4))\n",
    "\n",
    "    W_d_1 = weight_variable([encoded_neural, 250], \"w_d_1\")\n",
    "    b_d_1 = bias_variable([250], \"b_d_1\")\n",
    "    h_d_1 = tf.nn.sigmoid(tf.add(tf.matmul(h_e_4, W_d_1), b_d_1))\n",
    "    \n",
    "    W_d_2 = weight_variable([250, 500], 'w_d_2')\n",
    "    b_d_2 = bias_variable([500], \"b_d_2\")\n",
    "    h_d_2 = tf.nn.sigmoid(tf.add(tf.matmul(h_d_1, W_d_2), b_d_2))\n",
    "\n",
    "    W_d_3 = weight_variable([500, 1000], \"w_d_3\")\n",
    "    b_d_3 = bias_variable([1000], \"b_d_3\")\n",
    "    h_d_3 = tf.nn.sigmoid(tf.add(tf.matmul(h_d_2, W_d_3), b_d_3))\n",
    "    \n",
    "    W_d_4 = weight_variable([1000, 784], \"w_d_4\")\n",
    "    b_d_4 = bias_variable([784], \"b_d_4\")\n",
    "    h_d_4 = tf.nn.sigmoid(tf.add(tf.matmul(h_d_3, W_d_4), b_d_4))\n",
    "    h = [h_e_1, h_e_2, h_e_3, h_e_4, h_d_1, h_d_2, h_d_3, h_d_4]\n",
    "    w = [W_e_1, W_e_2,W_e_3, W_e_4, W_d_1, W_d_2, W_d_3,  W_d_4]\n",
    "    \n",
    "    return h, w, h_e_4, h_d_4\n",
    "\n",
    "h, w, encoded, x_reconstruct = build_sae()"
   ]
  },
  {
   "cell_type": "code",
   "execution_count": 11,
   "metadata": {
    "collapsed": true
   },
   "outputs": [],
   "source": [
    "encoded_neural = 30\n",
    "def build_sae():\n",
    "    W_e_1 = weight_variable([784, 500], \"w_e_1\")\n",
    "    b_e_1 = bias_variable([500], \"b_e_1\")\n",
    "    h_e_1 = tf.nn.sigmoid(tf.add(tf.matmul(X, W_e_1), b_e_1))\n",
    "\n",
    "    W_e_2 = weight_variable([500, 250], \"w_e_2\")\n",
    "    b_e_2 = bias_variable([250], \"b_e_2\")\n",
    "    h_e_2 = tf.nn.sigmoid(tf.add(tf.matmul(h_e_1, W_e_2), b_e_2))\n",
    "\n",
    "    W_e_4 = weight_variable([250, encoded_neural], \"w_e_4\")\n",
    "    b_e_4 = bias_variable([encoded_neural], \"b_e_4\")\n",
    "    h_e_4 = tf.nn.sigmoid(tf.add(tf.matmul(h_e_2, W_e_4), b_e_4))\n",
    "\n",
    "    W_d_1 = weight_variable([encoded_neural, 250], \"w_d_1\")\n",
    "    b_d_1 = bias_variable([250], \"b_d_1\")\n",
    "    h_d_1 = tf.nn.sigmoid(tf.add(tf.matmul(h_e_4, W_d_1), b_d_1))\n",
    "\n",
    "    W_d_3 = weight_variable([250, 500], \"w_d_3\")\n",
    "    b_d_3 = bias_variable([500], \"b_d_3\")\n",
    "    h_d_3 = tf.nn.sigmoid(tf.add(tf.matmul(h_d_1, W_d_3), b_d_3))\n",
    "    \n",
    "    W_d_4 = weight_variable([500, 784], \"w_d_4\")\n",
    "    b_d_4 = bias_variable([784], \"b_d_4\")\n",
    "    h_d_4 = tf.nn.sigmoid(tf.add(tf.matmul(h_d_3, W_d_4), b_d_4))\n",
    "    h = [h_e_1, h_e_2, h_e_4, h_d_1, h_d_3, h_d_4]\n",
    "    w = [W_e_1, W_e_2, W_e_4, W_d_1, W_d_3,  W_d_4]\n",
    "    \n",
    "    return h, w, h_e_4, h_d_4\n",
    "\n",
    "h, w, encoded, x_reconstruct = build_sae()"
   ]
  },
  {
   "cell_type": "markdown",
   "metadata": {},
   "source": [
    "** Autoencoder modeling - Loss Function & Optimizer **"
   ]
  },
  {
   "cell_type": "code",
   "execution_count": 12,
   "metadata": {},
   "outputs": [],
   "source": [
    "alpha = 5e-6\n",
    "beta = 7.5e-5\n",
    "kl_div_loss = reduce(lambda x, y: x + y, map(lambda x: tf.reduce_sum(kl_div(0.02, tf.reduce_mean(x,0))), h))\n",
    "l2_loss = reduce(lambda x, y: x + y, map(lambda x: tf.nn.l2_loss(x), w))\n",
    "loss_auto = tf.reduce_mean(tf.pow(x_reconstruct - X, 2)) #+ alpha * l2_loss #+ beta * kl_div_loss\n",
    "\n",
    "optimizer = tf.train.AdamOptimizer(0.01).minimize(loss_auto)\n"
   ]
  },
  {
   "cell_type": "markdown",
   "metadata": {},
   "source": [
    "** Classifier modeling - Network Structure **"
   ]
  },
  {
   "cell_type": "code",
   "execution_count": 13,
   "metadata": {},
   "outputs": [],
   "source": [
    "def build_classfier(encoded):\n",
    "    W_cf_1 = weight_variable([30, 10], \"W_cf_1\")\n",
    "    b_cf_1 = bias_variable([10], \"b_cf_1\")\n",
    "    h_cf_1 = tf.add(tf.matmul(encoded, W_cf_1), b_cf_1)\n",
    "    h_cf_1_sf = tf.nn.softmax(h_cf_1)\n",
    "    return [h_cf_1_sf], [W_cf_1,b_cf_1], h_cf_1, h_cf_1_sf\n",
    "\n",
    "_, trainable_vars, Y, Y_softmax = build_classfier(encoded)\n",
    "#correct_prediction = tf.equal(Y_softmax_argmax, tf.argmax(Y_, 1))\n",
    "correct_pred = tf.equal(tf.argmax(Y_softmax, 1), tf.argmax(Y_, 1))\n",
    "accuracy = tf.reduce_mean(tf.cast(correct_pred, \"float\"))"
   ]
  },
  {
   "cell_type": "markdown",
   "metadata": {},
   "source": [
    "** Classifier modeling - loss function and Optimizer **"
   ]
  },
  {
   "cell_type": "code",
   "execution_count": 14,
   "metadata": {
    "collapsed": true
   },
   "outputs": [],
   "source": [
    "loss_cla = tf.reduce_mean(tf.nn.softmax_cross_entropy_with_logits(labels=Y_, logits=Y))\n",
    "#optimizer_cla = tf.train.RMSPropOptimizer(0.01).minimize(loss_cla,var_list=trainable_vars)\n",
    "optimizer_cla = tf.train.RMSPropOptimizer(0.01).minimize(loss_cla)"
   ]
  },
  {
   "cell_type": "markdown",
   "metadata": {},
   "source": [
    "<a id='Training'></a>\n",
    "## 3. Training"
   ]
  },
  {
   "cell_type": "markdown",
   "metadata": {},
   "source": [
    "** Autoencoder training **"
   ]
  },
  {
   "cell_type": "code",
   "execution_count": 15,
   "metadata": {
    "collapsed": true
   },
   "outputs": [],
   "source": [
    "init_op = tf.global_variables_initializer()\n",
    "sess = tf.InteractiveSession()\n",
    "sess.run(init_op)\n"
   ]
  },
  {
   "cell_type": "code",
   "execution_count": 16,
   "metadata": {
    "scrolled": false
   },
   "outputs": [
    {
     "name": "stdout",
     "output_type": "stream",
     "text": [
      "epoch:0, batch:98 loss:0.06745240092277527\n",
      "epoch:1, batch:98 loss:0.06694648414850235\n",
      "epoch:2, batch:98 loss:0.06689544022083282\n",
      "epoch:3, batch:98 loss:0.05971969664096832\n",
      "epoch:4, batch:98 loss:0.05664415284991264\n",
      "epoch:5, batch:98 loss:0.04818274825811386\n",
      "epoch:6, batch:98 loss:0.04321978986263275\n",
      "epoch:7, batch:98 loss:0.03567231446504593\n",
      "epoch:8, batch:98 loss:0.030726641416549683\n",
      "epoch:9, batch:98 loss:0.027781905606389046\n",
      "epoch:10, batch:98 loss:0.024744395166635513\n",
      "epoch:11, batch:98 loss:0.024184077978134155\n",
      "epoch:12, batch:98 loss:0.023515019565820694\n",
      "epoch:13, batch:98 loss:0.02161537855863571\n",
      "epoch:14, batch:98 loss:0.021047264337539673\n",
      "epoch:15, batch:98 loss:0.01966499350965023\n",
      "epoch:16, batch:98 loss:0.01898932456970215\n",
      "epoch:17, batch:98 loss:0.018809165805578232\n",
      "epoch:18, batch:98 loss:0.01764651946723461\n",
      "epoch:19, batch:98 loss:0.0172840878367424\n",
      "epoch:20, batch:98 loss:0.01622960716485977\n",
      "epoch:21, batch:98 loss:0.015551058575510979\n",
      "epoch:22, batch:98 loss:0.015429872088134289\n",
      "epoch:23, batch:98 loss:0.015574363060295582\n",
      "epoch:24, batch:98 loss:0.014834954403340816\n",
      "epoch:25, batch:98 loss:0.0146214310079813\n",
      "epoch:26, batch:98 loss:0.014398808591067791\n",
      "epoch:27, batch:98 loss:0.013724981807172298\n",
      "epoch:28, batch:98 loss:0.013650248758494854\n",
      "epoch:29, batch:98 loss:0.012486770749092102\n",
      "epoch:30, batch:98 loss:0.013392889872193336\n"
     ]
    }
   ],
   "source": [
    "train_X_unlabeled = train_X[:49000]\n",
    "epoch = 30\n",
    "batch_size = 500\n",
    "total_batch= len(train_X_unlabeled) / batch_size\n",
    "for ep in range(epoch+1):\n",
    "    for i in range(int(total_batch)+1):\n",
    "        rnd_idx = np.random.choice(train_X_unlabeled.shape[0], batch_size, replace=False)\n",
    "        batch_x = train_X_unlabeled[rnd_idx]\n",
    "        _, loss_v= sess.run([optimizer, loss_auto], feed_dict={X: batch_x})\n",
    "    updateProgress('epoch:{x0}, batch:{x4} loss:{x3}'.format(x0=ep,x3=loss_v,x4=i))\n",
    "    print()\n"
   ]
  },
  {
   "cell_type": "markdown",
   "metadata": {},
   "source": [
    "** Autoencoder - test (mnist) **"
   ]
  },
  {
   "cell_type": "code",
   "execution_count": 17,
   "metadata": {},
   "outputs": [
    {
     "data": {
      "image/png": "[encoded data removed]",
      "text/plain": [
       "<PIL.Image.Image image mode=L size=560x28 at 0x1282B6588>"
      ]
     },
     "metadata": {},
     "output_type": "display_data"
    },
    {
     "name": "stdout",
     "output_type": "stream",
     "text": [
      "\n"
     ]
    },
    {
     "data": {
      "image/png": "[encoded data removed]",
      "text/plain": [
       "<PIL.Image.Image image mode=L size=560x28 at 0x1282B6518>"
      ]
     },
     "metadata": {},
     "output_type": "display_data"
    }
   ],
   "source": [
    "showX(test_X[:20])\n",
    "batch_tx = test_X[:20]\n",
    "decoded_imgs = sess.run([x_reconstruct], feed_dict={X: batch_tx})\n",
    "\n",
    "decoded_imgs_1 = np.array(decoded_imgs)\n",
    "decoded_imgs_1 = decoded_imgs_1.reshape(20,784)\n",
    "print('')\n",
    "showX(decoded_imgs_1[:20])"
   ]
  },
  {
   "cell_type": "markdown",
   "metadata": {},
   "source": [
    ">** Training爛掉時會像這樣：**\n",
    "![](img/fail.png)"
   ]
  },
  {
   "cell_type": "markdown",
   "metadata": {},
   "source": [
    "** Autoencoder - test other picture **"
   ]
  },
  {
   "cell_type": "code",
   "execution_count": 18,
   "metadata": {
    "scrolled": false
   },
   "outputs": [
    {
     "data": {
      "image/png": "[encoded data removed]",
      "text/plain": [
       "<PIL.Image.Image image mode=L size=28x28 at 0x1180E0EB8>"
      ]
     },
     "metadata": {},
     "output_type": "display_data"
    },
    {
     "data": {
      "image/png": "[encoded data removed]",
      "text/plain": [
       "<PIL.Image.Image image mode=L size=28x28 at 0x1180E65F8>"
      ]
     },
     "metadata": {},
     "output_type": "display_data"
    },
    {
     "data": {
      "image/png": "[encoded data removed]",
      "text/plain": [
       "<PIL.Image.Image image mode=L size=28x28 at 0x1180E65F8>"
      ]
     },
     "metadata": {},
     "output_type": "display_data"
    },
    {
     "data": {
      "image/png": "[encoded data removed]",
      "text/plain": [
       "<PIL.Image.Image image mode=L size=28x28 at 0x1180E65F8>"
      ]
     },
     "metadata": {},
     "output_type": "display_data"
    },
    {
     "data": {
      "image/png": "[encoded data removed]",
      "text/plain": [
       "<PIL.Image.Image image mode=L size=28x28 at 0x1180E0F60>"
      ]
     },
     "metadata": {},
     "output_type": "display_data"
    },
    {
     "data": {
      "image/png": "[encoded data removed]",
      "text/plain": [
       "<PIL.Image.Image image mode=L size=140x28 at 0x1180E0D68>"
      ]
     },
     "metadata": {},
     "output_type": "display_data"
    }
   ],
   "source": [
    "import matplotlib.image as mpimg\n",
    "warnings.filterwarnings('ignore')\n",
    "piclist = ['img/ae1.jpg','img/ae2.jpg','img/ae3.jpg','img/ae4.jpeg','img/ae5.jpeg']\n",
    "batch_tx=[]\n",
    "min_max_scaler = preprocessing.MinMaxScaler()\n",
    "normalize_scaler = preprocessing.StandardScaler()\n",
    "for pic in piclist:\n",
    "    im = Image.open(pic).convert('L') #Can be many different formats.\n",
    "    #display(im)\n",
    "    im = im.resize((28,28))\n",
    "    display(im)\n",
    "    #img = mpimg.imread(pic)\n",
    "    #plt.imshow(img)\n",
    "    #plt.show()\n",
    "    #pix = im.load()\n",
    "    pixels = list(im.getdata())\n",
    "    pixels = np.array(pixels).reshape(784)\n",
    "    pixels_scaled = normalize_scaler.fit_transform(pixels.reshape((-1, 1)))\n",
    "    batch_tx.append(pixels_scaled.reshape((784)))\n",
    "    \n",
    "decoded_img_test = sess.run([x_reconstruct], feed_dict={X: batch_tx})\n",
    "decoded_img_test = np.array(decoded_img_test)\n",
    "decoded_img_test = decoded_img_test.reshape(-1,784)\n",
    "showX(decoded_img_test[:20])"
   ]
  },
  {
   "cell_type": "markdown",
   "metadata": {},
   "source": [
    "** Classifier training **"
   ]
  },
  {
   "cell_type": "code",
   "execution_count": 26,
   "metadata": {
    "scrolled": false
   },
   "outputs": [
    {
     "name": "stdout",
     "output_type": "stream",
     "text": [
      "Ep:0, Bch:16, Tr: loss:0.007412776350975037, acc:1.0, Vd: loss:0.22872737050056458, acc:0.9348000288009644\n",
      "Ep:1, Bch:16, Tr: loss:0.005457836203277111, acc:1.0, Vd: loss:0.23560687899589539, acc:0.9344000220298767\n",
      "Ep:2, Bch:16, Tr: loss:0.003175800433382392, acc:1.0, Vd: loss:0.24398218095302582, acc:0.9337000250816345\n",
      "Ep:3, Bch:16, Tr: loss:0.0018224477535113692, acc:1.0, Vd: loss:0.2595207095146179, acc:0.9340999722480774\n",
      "Ep:4, Bch:16, Tr: loss:0.0010774016845971346, acc:1.0, Vd: loss:0.27319666743278503, acc:0.9332000017166138\n",
      "Ep:5, Bch:16, Tr: loss:0.0005443973350338638, acc:1.0, Vd: loss:0.28039342164993286, acc:0.9358000159263611\n",
      "Ep:6, Bch:16, Tr: loss:0.0003572526329662651, acc:1.0, Vd: loss:0.29637303948402405, acc:0.9362999796867371\n",
      "Ep:7, Bch:16, Tr: loss:0.0001569773885421455, acc:1.0, Vd: loss:0.3073108494281769, acc:0.9363999962806702\n",
      "Ep:8, Bch:16, Tr: loss:8.588202035753056e-05, acc:1.0, Vd: loss:0.32244858145713806, acc:0.9355000257492065\n",
      "Ep:9, Bch:16, Tr: loss:7.255977834574878e-05, acc:1.0, Vd: loss:0.3324294090270996, acc:0.9355000257492065\n",
      "Ep:10, Bch:16, Tr: loss:4.886003807769157e-05, acc:1.0, Vd: loss:0.34182798862457275, acc:0.935699999332428\n",
      "Ep:11, Bch:16, Tr: loss:2.998057061631698e-05, acc:1.0, Vd: loss:0.34771403670310974, acc:0.935699999332428\n",
      "Ep:12, Bch:16, Tr: loss:3.6520556022878736e-05, acc:1.0, Vd: loss:0.35408735275268555, acc:0.9359999895095825\n",
      "Ep:13, Bch:16, Tr: loss:2.498740104783792e-05, acc:1.0, Vd: loss:0.35818079113960266, acc:0.935699999332428\n",
      "Ep:14, Bch:16, Tr: loss:2.3588903786730953e-05, acc:1.0, Vd: loss:0.3617989122867584, acc:0.9358999729156494\n",
      "Ep:15, Bch:16, Tr: loss:1.7114307411247864e-05, acc:1.0, Vd: loss:0.3645596206188202, acc:0.9361000061035156\n"
     ]
    }
   ],
   "source": [
    "train_X_labeled = train_X[49000:]\n",
    "train_Y_labeled = train_Y[49000:]\n",
    "epoch = 30\n",
    "batch_size = 60\n",
    "total_batch= len(train_X_labeled) / batch_size\n",
    "for ep in range(epoch+1):\n",
    "    for i in range(int(total_batch)+1):\n",
    "        rnd_idx = np.random.choice(train_X_labeled.shape[0], batch_size, replace=False)\n",
    "        batch_x = train_X_labeled[rnd_idx]\n",
    "        batch_y = train_Y_labeled[rnd_idx]\n",
    "        _, loss_v, acc_v= sess.run([optimizer_cla, loss_cla, accuracy], feed_dict={X: batch_x, Y_:batch_y})\n",
    "    loss_v2, acc_v2= sess.run([loss_cla, accuracy], feed_dict={X: validation_X , Y_: validation_Y})\n",
    "    updateProgress('Ep:{x0}, Bch:{x4}, Tr: loss:{x5}, acc:{x6}, Vd: loss:{x3}, acc:{x2}'.format(x0=ep,x1=i,x2=acc_v2,x3=loss_v2,x4=i,x6=acc_v,x5=loss_v))\n",
    "    print()\n",
    "\n"
   ]
  },
  {
   "cell_type": "markdown",
   "metadata": {},
   "source": [
    "** Classifier testing **"
   ]
  },
  {
   "cell_type": "code",
   "execution_count": 27,
   "metadata": {
    "scrolled": false
   },
   "outputs": [
    {
     "name": "stdout",
     "output_type": "stream",
     "text": [
      "Accuracy: 0.9317 ,  683/9317\n",
      "\n",
      "predict:  [8 6 2 7 4 2 5 7 2 9]\n",
      "answer:  [3 4 3 9 9 3 6 8 4 4]\n"
     ]
    },
    {
     "data": {
      "image/png": "[encoded data removed]",
      "text/plain": [
       "<PIL.Image.Image image mode=L size=280x28 at 0x1180E7358>"
      ]
     },
     "metadata": {},
     "output_type": "display_data"
    },
    {
     "name": "stdout",
     "output_type": "stream",
     "text": [
      "\n",
      "predict:  [6 2 7 4 2 5 7 2 9 0]\n",
      "answer:  [4 3 9 9 3 6 8 4 4 6]\n"
     ]
    },
    {
     "data": {
      "image/png": "[encoded data removed]",
      "text/plain": [
       "<PIL.Image.Image image mode=L size=280x28 at 0x1180E71D0>"
      ]
     },
     "metadata": {},
     "output_type": "display_data"
    },
    {
     "name": "stdout",
     "output_type": "stream",
     "text": [
      "\n",
      "predict:  [2 7 4 2 5 7 2 9 0 9]\n",
      "answer:  [3 9 9 3 6 8 4 4 6 8]\n"
     ]
    },
    {
     "data": {
      "image/png": "[encoded data removed]",
      "text/plain": [
       "<PIL.Image.Image image mode=L size=280x28 at 0x1180E7CC0>"
      ]
     },
     "metadata": {},
     "output_type": "display_data"
    },
    {
     "name": "stdout",
     "output_type": "stream",
     "text": [
      "\n",
      "predict:  [7 4 2 5 7 2 9 0 9 5]\n",
      "answer:  [9 9 3 6 8 4 4 6 8 8]\n"
     ]
    },
    {
     "data": {
      "image/png": "[encoded data removed]",
      "text/plain": [
       "<PIL.Image.Image image mode=L size=280x28 at 0x1180E7518>"
      ]
     },
     "metadata": {},
     "output_type": "display_data"
    },
    {
     "name": "stdout",
     "output_type": "stream",
     "text": [
      "\n",
      "predict:  [4 2 5 7 2 9 0 9 5 6]\n",
      "answer:  [9 3 6 8 4 4 6 8 8 4]\n"
     ]
    },
    {
     "data": {
      "image/png": "[encoded data removed]",
      "text/plain": [
       "<PIL.Image.Image image mode=L size=280x28 at 0x1180E75F8>"
      ]
     },
     "metadata": {},
     "output_type": "display_data"
    },
    {
     "name": "stdout",
     "output_type": "stream",
     "text": [
      "\n",
      "predict:  [2 5 7 2 9 0 9 5 6 3]\n",
      "answer:  [3 6 8 4 4 6 8 8 4 2]\n"
     ]
    },
    {
     "data": {
      "image/png": "[encoded data removed]",
      "text/plain": [
       "<PIL.Image.Image image mode=L size=280x28 at 0x1180E74A8>"
      ]
     },
     "metadata": {},
     "output_type": "display_data"
    },
    {
     "name": "stdout",
     "output_type": "stream",
     "text": [
      "\n",
      "predict:  [5 7 2 9 0 9 5 6 3 1]\n",
      "answer:  [6 8 4 4 6 8 8 4 2 9]\n"
     ]
    },
    {
     "data": {
      "image/png": "[encoded data removed]",
      "text/plain": [
       "<PIL.Image.Image image mode=L size=280x28 at 0x1180E7358>"
      ]
     },
     "metadata": {},
     "output_type": "display_data"
    },
    {
     "name": "stdout",
     "output_type": "stream",
     "text": [
      "\n",
      "predict:  [7 2 9 0 9 5 6 3 1 7]\n",
      "answer:  [8 4 4 6 8 8 4 2 9 2]\n"
     ]
    },
    {
     "data": {
      "image/png": "[encoded data removed]",
      "text/plain": [
       "<PIL.Image.Image image mode=L size=280x28 at 0x1180E7EF0>"
      ]
     },
     "metadata": {},
     "output_type": "display_data"
    },
    {
     "name": "stdout",
     "output_type": "stream",
     "text": [
      "\n",
      "predict:  [2 9 0 9 5 6 3 1 7 5]\n",
      "answer:  [4 4 6 8 8 4 2 9 2 0]\n"
     ]
    },
    {
     "data": {
      "image/png": "[encoded data removed]",
      "text/plain": [
       "<PIL.Image.Image image mode=L size=280x28 at 0x1180E7358>"
      ]
     },
     "metadata": {},
     "output_type": "display_data"
    },
    {
     "name": "stdout",
     "output_type": "stream",
     "text": [
      "\n",
      "predict:  [9 0 9 5 6 3 1 7 5 9]\n",
      "answer:  [4 6 8 8 4 2 9 2 0 4]\n"
     ]
    },
    {
     "data": {
      "image/png": "[encoded data removed]",
      "text/plain": [
       "<PIL.Image.Image image mode=L size=280x28 at 0x1180E7550>"
      ]
     },
     "metadata": {},
     "output_type": "display_data"
    },
    {
     "name": "stdout",
     "output_type": "stream",
     "text": [
      "\n",
      "predict:  [0 9 5 6 3 1 7 5 9 3]\n",
      "answer:  [6 8 8 4 2 9 2 0 4 5]\n"
     ]
    },
    {
     "data": {
      "image/png": "[encoded data removed]",
      "text/plain": [
       "<PIL.Image.Image image mode=L size=280x28 at 0x1180E74A8>"
      ]
     },
     "metadata": {},
     "output_type": "display_data"
    },
    {
     "name": "stdout",
     "output_type": "stream",
     "text": [
      "\n",
      "predict:  [9 5 6 3 1 7 5 9 3 5]\n",
      "answer:  [8 8 4 2 9 2 0 4 5 6]\n"
     ]
    },
    {
     "data": {
      "image/png": "[encoded data removed]",
      "text/plain": [
       "<PIL.Image.Image image mode=L size=280x28 at 0x1180E7518>"
      ]
     },
     "metadata": {},
     "output_type": "display_data"
    },
    {
     "name": "stdout",
     "output_type": "stream",
     "text": [
      "\n",
      "predict:  [5 6 3 1 7 5 9 3 5 0]\n",
      "answer:  [8 4 2 9 2 0 4 5 6 5]\n"
     ]
    },
    {
     "data": {
      "image/png": "[encoded data removed]",
      "text/plain": [
       "<PIL.Image.Image image mode=L size=280x28 at 0x1180E7710>"
      ]
     },
     "metadata": {},
     "output_type": "display_data"
    },
    {
     "name": "stdout",
     "output_type": "stream",
     "text": [
      "\n",
      "predict:  [6 3 1 7 5 9 3 5 0 4]\n",
      "answer:  [4 2 9 2 0 4 5 6 5 9]\n"
     ]
    },
    {
     "data": {
      "image/png": "[encoded data removed]",
      "text/plain": [
       "<PIL.Image.Image image mode=L size=280x28 at 0x1180E7320>"
      ]
     },
     "metadata": {},
     "output_type": "display_data"
    },
    {
     "name": "stdout",
     "output_type": "stream",
     "text": [
      "\n",
      "predict:  [3 1 7 5 9 3 5 0 4 7]\n",
      "answer:  [2 9 2 0 4 5 6 5 9 2]\n"
     ]
    },
    {
     "data": {
      "image/png": "[encoded data removed]",
      "text/plain": [
       "<PIL.Image.Image image mode=L size=280x28 at 0x1180E7CC0>"
      ]
     },
     "metadata": {},
     "output_type": "display_data"
    },
    {
     "name": "stdout",
     "output_type": "stream",
     "text": [
      "\n",
      "predict:  [1 7 5 9 3 5 0 4 7 7]\n",
      "answer:  [9 2 0 4 5 6 5 9 2 3]\n"
     ]
    },
    {
     "data": {
      "image/png": "[encoded data removed]",
      "text/plain": [
       "<PIL.Image.Image image mode=L size=280x28 at 0x1180E7A20>"
      ]
     },
     "metadata": {},
     "output_type": "display_data"
    },
    {
     "name": "stdout",
     "output_type": "stream",
     "text": [
      "\n",
      "predict:  [7 5 9 3 5 0 4 7 7 7]\n",
      "answer:  [2 0 4 5 6 5 9 2 3 9]\n"
     ]
    },
    {
     "data": {
      "image/png": "[encoded data removed]",
      "text/plain": [
       "<PIL.Image.Image image mode=L size=280x28 at 0x1180E7358>"
      ]
     },
     "metadata": {},
     "output_type": "display_data"
    },
    {
     "name": "stdout",
     "output_type": "stream",
     "text": [
      "\n",
      "predict:  [5 9 3 5 0 4 7 7 7 0]\n",
      "answer:  [0 4 5 6 5 9 2 3 9 6]\n"
     ]
    },
    {
     "data": {
      "image/png": "[encoded data removed]",
      "text/plain": [
       "<PIL.Image.Image image mode=L size=280x28 at 0x1180E7320>"
      ]
     },
     "metadata": {},
     "output_type": "display_data"
    },
    {
     "name": "stdout",
     "output_type": "stream",
     "text": [
      "\n",
      "predict:  [9 3 5 0 4 7 7 7 0 8]\n",
      "answer:  [4 5 6 5 9 2 3 9 6 9]\n"
     ]
    },
    {
     "data": {
      "image/png": "[encoded data removed]",
      "text/plain": [
       "<PIL.Image.Image image mode=L size=280x28 at 0x1180E7518>"
      ]
     },
     "metadata": {},
     "output_type": "display_data"
    },
    {
     "name": "stdout",
     "output_type": "stream",
     "text": [
      "\n",
      "predict:  [3 5 0 4 7 7 7 0 8 5]\n",
      "answer:  [5 6 5 9 2 3 9 6 9 6]\n"
     ]
    },
    {
     "data": {
      "image/png": "[encoded data removed]",
      "text/plain": [
       "<PIL.Image.Image image mode=L size=280x28 at 0x1180E7438>"
      ]
     },
     "metadata": {},
     "output_type": "display_data"
    },
    {
     "name": "stdout",
     "output_type": "stream",
     "text": [
      "\n",
      "predict:  [5 0 4 7 7 7 0 8 5 7]\n",
      "answer:  [6 5 9 2 3 9 6 9 6 3]\n"
     ]
    },
    {
     "data": {
      "image/png": "[encoded data removed]",
      "text/plain": [
       "<PIL.Image.Image image mode=L size=280x28 at 0x1180E76D8>"
      ]
     },
     "metadata": {},
     "output_type": "display_data"
    },
    {
     "name": "stdout",
     "output_type": "stream",
     "text": [
      "\n",
      "predict:  [0 4 7 7 7 0 8 5 7 9]\n",
      "answer:  [5 9 2 3 9 6 9 6 3 7]\n"
     ]
    },
    {
     "data": {
      "image/png": "[encoded data removed]",
      "text/plain": [
       "<PIL.Image.Image image mode=L size=280x28 at 0x1180E7208>"
      ]
     },
     "metadata": {},
     "output_type": "display_data"
    },
    {
     "name": "stdout",
     "output_type": "stream",
     "text": [
      "\n",
      "predict:  [4 7 7 7 0 8 5 7 9 3]\n",
      "answer:  [9 2 3 9 6 9 6 3 7 5]\n"
     ]
    },
    {
     "data": {
      "image/png": "[encoded data removed]",
      "text/plain": [
       "<PIL.Image.Image image mode=L size=280x28 at 0x1180E71D0>"
      ]
     },
     "metadata": {},
     "output_type": "display_data"
    },
    {
     "name": "stdout",
     "output_type": "stream",
     "text": [
      "\n",
      "predict:  [7 7 7 0 8 5 7 9 3 5]\n",
      "answer:  [2 3 9 6 9 6 3 7 5 3]\n"
     ]
    },
    {
     "data": {
      "image/png": "[encoded data removed]",
      "text/plain": [
       "<PIL.Image.Image image mode=L size=280x28 at 0x1180E7A20>"
      ]
     },
     "metadata": {},
     "output_type": "display_data"
    },
    {
     "name": "stdout",
     "output_type": "stream",
     "text": [
      "\n",
      "predict:  [7 7 0 8 5 7 9 3 5 5]\n",
      "answer:  [3 9 6 9 6 3 7 5 3 6]\n"
     ]
    },
    {
     "data": {
      "image/png": "[encoded data removed]",
      "text/plain": [
       "<PIL.Image.Image image mode=L size=280x28 at 0x1180E7EF0>"
      ]
     },
     "metadata": {},
     "output_type": "display_data"
    },
    {
     "name": "stdout",
     "output_type": "stream",
     "text": [
      "\n",
      "predict:  [7 0 8 5 7 9 3 5 5 7]\n",
      "answer:  [9 6 9 6 3 7 5 3 6 4]\n"
     ]
    },
    {
     "data": {
      "image/png": "[encoded data removed]",
      "text/plain": [
       "<PIL.Image.Image image mode=L size=280x28 at 0x1180E7358>"
      ]
     },
     "metadata": {},
     "output_type": "display_data"
    },
    {
     "name": "stdout",
     "output_type": "stream",
     "text": [
      "\n",
      "predict:  [0 8 5 7 9 3 5 5 7 4]\n",
      "answer:  [6 9 6 3 7 5 3 6 4 9]\n"
     ]
    },
    {
     "data": {
      "image/png": "[encoded data removed]",
      "text/plain": [
       "<PIL.Image.Image image mode=L size=280x28 at 0x1180E7320>"
      ]
     },
     "metadata": {},
     "output_type": "display_data"
    },
    {
     "name": "stdout",
     "output_type": "stream",
     "text": [
      "\n",
      "predict:  [8 5 7 9 3 5 5 7 4 2]\n",
      "answer:  [9 6 3 7 5 3 6 4 9 8]\n"
     ]
    },
    {
     "data": {
      "image/png": "[encoded data removed]",
      "text/plain": [
       "<PIL.Image.Image image mode=L size=280x28 at 0x1180E74A8>"
      ]
     },
     "metadata": {},
     "output_type": "display_data"
    },
    {
     "name": "stdout",
     "output_type": "stream",
     "text": [
      "\n",
      "predict:  [5 7 9 3 5 5 7 4 2 4]\n",
      "answer:  [6 3 7 5 3 6 4 9 8 8]\n"
     ]
    },
    {
     "data": {
      "image/png": "[encoded data removed]",
      "text/plain": [
       "<PIL.Image.Image image mode=L size=280x28 at 0x1180E71D0>"
      ]
     },
     "metadata": {},
     "output_type": "display_data"
    },
    {
     "name": "stdout",
     "output_type": "stream",
     "text": [
      "\n",
      "predict:  [7 9 3 5 5 7 4 2 4 2]\n",
      "answer:  [3 7 5 3 6 4 9 8 8 7]\n"
     ]
    },
    {
     "data": {
      "image/png": "[encoded data removed]",
      "text/plain": [
       "<PIL.Image.Image image mode=L size=280x28 at 0x1180E7CC0>"
      ]
     },
     "metadata": {},
     "output_type": "display_data"
    },
    {
     "name": "stdout",
     "output_type": "stream",
     "text": [
      "\n",
      "predict:  [9 3 5 5 7 4 2 4 2 9]\n",
      "answer:  [7 5 3 6 4 9 8 8 7 4]\n"
     ]
    },
    {
     "data": {
      "image/png": "[encoded data removed]",
      "text/plain": [
       "<PIL.Image.Image image mode=L size=280x28 at 0x1180E7EF0>"
      ]
     },
     "metadata": {},
     "output_type": "display_data"
    },
    {
     "name": "stdout",
     "output_type": "stream",
     "text": [
      "\n",
      "predict:  [3 5 5 7 4 2 4 2 9 2]\n",
      "answer:  [5 3 6 4 9 8 8 7 4 3]\n"
     ]
    },
    {
     "data": {
      "image/png": "[encoded data removed]",
      "text/plain": [
       "<PIL.Image.Image image mode=L size=280x28 at 0x1180E7518>"
      ]
     },
     "metadata": {},
     "output_type": "display_data"
    },
    {
     "name": "stdout",
     "output_type": "stream",
     "text": [
      "\n",
      "predict:  [5 5 7 4 2 4 2 9 2 2]\n",
      "answer:  [3 6 4 9 8 8 7 4 3 8]\n"
     ]
    },
    {
     "data": {
      "image/png": "[encoded data removed]",
      "text/plain": [
       "<PIL.Image.Image image mode=L size=280x28 at 0x1180E76D8>"
      ]
     },
     "metadata": {},
     "output_type": "display_data"
    },
    {
     "name": "stdout",
     "output_type": "stream",
     "text": [
      "\n",
      "predict:  [5 7 4 2 4 2 9 2 2 3]\n",
      "answer:  [6 4 9 8 8 7 4 3 8 8]\n"
     ]
    },
    {
     "data": {
      "image/png": "[encoded data removed]",
      "text/plain": [
       "<PIL.Image.Image image mode=L size=280x28 at 0x1180E7208>"
      ]
     },
     "metadata": {},
     "output_type": "display_data"
    },
    {
     "name": "stdout",
     "output_type": "stream",
     "text": [
      "\n",
      "predict:  [7 4 2 4 2 9 2 2 3 3]\n",
      "answer:  [4 9 8 8 7 4 3 8 8 8]\n"
     ]
    },
    {
     "data": {
      "image/png": "[encoded data removed]",
      "text/plain": [
       "<PIL.Image.Image image mode=L size=280x28 at 0x1180E7550>"
      ]
     },
     "metadata": {},
     "output_type": "display_data"
    },
    {
     "name": "stdout",
     "output_type": "stream",
     "text": [
      "\n",
      "predict:  [4 2 4 2 9 2 2 3 3 6]\n",
      "answer:  [9 8 8 7 4 3 8 8 8 4]\n"
     ]
    },
    {
     "data": {
      "image/png": "[encoded data removed]",
      "text/plain": [
       "<PIL.Image.Image image mode=L size=280x28 at 0x1180E7438>"
      ]
     },
     "metadata": {},
     "output_type": "display_data"
    },
    {
     "name": "stdout",
     "output_type": "stream",
     "text": [
      "\n",
      "predict:  [2 4 2 9 2 2 3 3 6 8]\n",
      "answer:  [8 8 7 4 3 8 8 8 4 2]\n"
     ]
    },
    {
     "data": {
      "image/png": "[encoded data removed]",
      "text/plain": [
       "<PIL.Image.Image image mode=L size=280x28 at 0x1180E7358>"
      ]
     },
     "metadata": {},
     "output_type": "display_data"
    },
    {
     "name": "stdout",
     "output_type": "stream",
     "text": [
      "\n",
      "predict:  [4 2 9 2 2 3 3 6 8 8]\n",
      "answer:  [8 7 4 3 8 8 8 4 2 1]\n"
     ]
    },
    {
     "data": {
      "image/png": "[encoded data removed]",
      "text/plain": [
       "<PIL.Image.Image image mode=L size=280x28 at 0x1180E76D8>"
      ]
     },
     "metadata": {},
     "output_type": "display_data"
    },
    {
     "name": "stdout",
     "output_type": "stream",
     "text": [
      "\n",
      "predict:  [2 9 2 2 3 3 6 8 8 4]\n",
      "answer:  [7 4 3 8 8 8 4 2 1 9]\n"
     ]
    },
    {
     "data": {
      "image/png": "[encoded data removed]",
      "text/plain": [
       "<PIL.Image.Image image mode=L size=280x28 at 0x1180E7518>"
      ]
     },
     "metadata": {},
     "output_type": "display_data"
    },
    {
     "name": "stdout",
     "output_type": "stream",
     "text": [
      "\n",
      "predict:  [9 2 2 3 3 6 8 8 4 9]\n",
      "answer:  [4 3 8 8 8 4 2 1 9 3]\n"
     ]
    },
    {
     "data": {
      "image/png": "[encoded data removed]",
      "text/plain": [
       "<PIL.Image.Image image mode=L size=280x28 at 0x1180E71D0>"
      ]
     },
     "metadata": {},
     "output_type": "display_data"
    },
    {
     "name": "stdout",
     "output_type": "stream",
     "text": [
      "\n",
      "predict:  [2 2 3 3 6 8 8 4 9 4]\n",
      "answer:  [3 8 8 8 4 2 1 9 3 7]\n"
     ]
    },
    {
     "data": {
      "image/png": "[encoded data removed]",
      "text/plain": [
       "<PIL.Image.Image image mode=L size=280x28 at 0x1180E7320>"
      ]
     },
     "metadata": {},
     "output_type": "display_data"
    },
    {
     "name": "stdout",
     "output_type": "stream",
     "text": [
      "\n",
      "predict:  [2 3 3 6 8 8 4 9 4 8]\n",
      "answer:  [8 8 8 4 2 1 9 3 7 2]\n"
     ]
    },
    {
     "data": {
      "image/png": "[encoded data removed]",
      "text/plain": [
       "<PIL.Image.Image image mode=L size=280x28 at 0x1180E7CC0>"
      ]
     },
     "metadata": {},
     "output_type": "display_data"
    },
    {
     "name": "stdout",
     "output_type": "stream",
     "text": [
      "\n",
      "predict:  [3 3 6 8 8 4 9 4 8 1]\n",
      "answer:  [8 8 4 2 1 9 3 7 2 7]\n"
     ]
    },
    {
     "data": {
      "image/png": "[encoded data removed]",
      "text/plain": [
       "<PIL.Image.Image image mode=L size=280x28 at 0x1180E76D8>"
      ]
     },
     "metadata": {},
     "output_type": "display_data"
    },
    {
     "name": "stdout",
     "output_type": "stream",
     "text": [
      "\n",
      "predict:  [3 6 8 8 4 9 4 8 1 3]\n",
      "answer:  [8 4 2 1 9 3 7 2 7 7]\n"
     ]
    },
    {
     "data": {
      "image/png": "[encoded data removed]",
      "text/plain": [
       "<PIL.Image.Image image mode=L size=280x28 at 0x1180E71D0>"
      ]
     },
     "metadata": {},
     "output_type": "display_data"
    },
    {
     "name": "stdout",
     "output_type": "stream",
     "text": [
      "\n",
      "predict:  [6 8 8 4 9 4 8 1 3 9]\n",
      "answer:  [4 2 1 9 3 7 2 7 7 7]\n"
     ]
    },
    {
     "data": {
      "image/png": "[encoded data removed]",
      "text/plain": [
       "<PIL.Image.Image image mode=L size=280x28 at 0x1180E7A20>"
      ]
     },
     "metadata": {},
     "output_type": "display_data"
    },
    {
     "name": "stdout",
     "output_type": "stream",
     "text": [
      "\n",
      "predict:  [8 8 4 9 4 8 1 3 9 4]\n",
      "answer:  [2 1 9 3 7 2 7 7 7 8]\n"
     ]
    },
    {
     "data": {
      "image/png": "[encoded data removed]",
      "text/plain": [
       "<PIL.Image.Image image mode=L size=280x28 at 0x1180E75F8>"
      ]
     },
     "metadata": {},
     "output_type": "display_data"
    },
    {
     "name": "stdout",
     "output_type": "stream",
     "text": [
      "\n",
      "predict:  [8 4 9 4 8 1 3 9 4 8]\n",
      "answer:  [1 9 3 7 2 7 7 7 8 5]\n"
     ]
    },
    {
     "data": {
      "image/png": "[encoded data removed]",
      "text/plain": [
       "<PIL.Image.Image image mode=L size=280x28 at 0x1180E7320>"
      ]
     },
     "metadata": {},
     "output_type": "display_data"
    },
    {
     "name": "stdout",
     "output_type": "stream",
     "text": [
      "\n",
      "predict:  [4 9 4 8 1 3 9 4 8 9]\n",
      "answer:  [9 3 7 2 7 7 7 8 5 4]\n"
     ]
    },
    {
     "data": {
      "image/png": "[encoded data removed]",
      "text/plain": [
       "<PIL.Image.Image image mode=L size=280x28 at 0x1180E7DD8>"
      ]
     },
     "metadata": {},
     "output_type": "display_data"
    },
    {
     "name": "stdout",
     "output_type": "stream",
     "text": [
      "\n",
      "predict:  [9 4 8 1 3 9 4 8 9 6]\n",
      "answer:  [3 7 2 7 7 7 8 5 4 0]\n"
     ]
    },
    {
     "data": {
      "image/png": "[encoded data removed]",
      "text/plain": [
       "<PIL.Image.Image image mode=L size=280x28 at 0x1180E7EF0>"
      ]
     },
     "metadata": {},
     "output_type": "display_data"
    },
    {
     "name": "stdout",
     "output_type": "stream",
     "text": [
      "\n",
      "predict:  [4 8 1 3 9 4 8 9 6 8]\n",
      "answer:  [7 2 7 7 7 8 5 4 0 5]\n"
     ]
    },
    {
     "data": {
      "image/png": "[encoded data removed]",
      "text/plain": [
       "<PIL.Image.Image image mode=L size=280x28 at 0x1180E7518>"
      ]
     },
     "metadata": {},
     "output_type": "display_data"
    },
    {
     "name": "stdout",
     "output_type": "stream",
     "text": [
      "\n",
      "predict:  [8 1 3 9 4 8 9 6 8 9]\n",
      "answer:  [2 7 7 7 8 5 4 0 5 4]\n"
     ]
    },
    {
     "data": {
      "image/png": "[encoded data removed]",
      "text/plain": [
       "<PIL.Image.Image image mode=L size=280x28 at 0x1180E7DD8>"
      ]
     },
     "metadata": {},
     "output_type": "display_data"
    },
    {
     "name": "stdout",
     "output_type": "stream",
     "text": [
      "\n",
      "predict:  [1 3 9 4 8 9 6 8 9 9]\n",
      "answer:  [7 7 7 8 5 4 0 5 4 4]\n"
     ]
    },
    {
     "data": {
      "image/png": "[encoded data removed]",
      "text/plain": [
       "<PIL.Image.Image image mode=L size=280x28 at 0x1180E71D0>"
      ]
     },
     "metadata": {},
     "output_type": "display_data"
    },
    {
     "name": "stdout",
     "output_type": "stream",
     "text": [
      "\n",
      "predict:  [3 9 4 8 9 6 8 9 9 9]\n",
      "answer:  [7 7 8 5 4 0 5 4 4 7]\n"
     ]
    },
    {
     "data": {
      "image/png": "[encoded data removed]",
      "text/plain": [
       "<PIL.Image.Image image mode=L size=280x28 at 0x1180E7550>"
      ]
     },
     "metadata": {},
     "output_type": "display_data"
    },
    {
     "name": "stdout",
     "output_type": "stream",
     "text": [
      "\n",
      "predict:  [9 4 8 9 6 8 9 9 9 5]\n",
      "answer:  [7 8 5 4 0 5 4 4 7 8]\n"
     ]
    },
    {
     "data": {
      "image/png": "[encoded data removed]",
      "text/plain": [
       "<PIL.Image.Image image mode=L size=280x28 at 0x1180E7D68>"
      ]
     },
     "metadata": {},
     "output_type": "display_data"
    },
    {
     "name": "stdout",
     "output_type": "stream",
     "text": [
      "\n",
      "predict:  [4 8 9 6 8 9 9 9 5 7]\n",
      "answer:  [8 5 4 0 5 4 4 7 8 4]\n"
     ]
    },
    {
     "data": {
      "image/png": "[encoded data removed]",
      "text/plain": [
       "<PIL.Image.Image image mode=L size=280x28 at 0x1180E7358>"
      ]
     },
     "metadata": {},
     "output_type": "display_data"
    },
    {
     "name": "stdout",
     "output_type": "stream",
     "text": [
      "\n",
      "predict:  [8 9 6 8 9 9 9 5 7 8]\n",
      "answer:  [5 4 0 5 4 4 7 8 4 4]\n"
     ]
    },
    {
     "data": {
      "image/png": "[encoded data removed]",
      "text/plain": [
       "<PIL.Image.Image image mode=L size=280x28 at 0x1180E7438>"
      ]
     },
     "metadata": {},
     "output_type": "display_data"
    },
    {
     "name": "stdout",
     "output_type": "stream",
     "text": [
      "\n",
      "predict:  [9 6 8 9 9 9 5 7 8 0]\n",
      "answer:  [4 0 5 4 4 7 8 4 4 8]\n"
     ]
    },
    {
     "data": {
      "image/png": "[encoded data removed]",
      "text/plain": [
       "<PIL.Image.Image image mode=L size=280x28 at 0x1180E74A8>"
      ]
     },
     "metadata": {},
     "output_type": "display_data"
    },
    {
     "name": "stdout",
     "output_type": "stream",
     "text": [
      "\n",
      "predict:  [6 8 9 9 9 5 7 8 0 7]\n",
      "answer:  [0 5 4 4 7 8 4 4 8 8]\n"
     ]
    },
    {
     "data": {
      "image/png": "[encoded data removed]",
      "text/plain": [
       "<PIL.Image.Image image mode=L size=280x28 at 0x1180E7DD8>"
      ]
     },
     "metadata": {},
     "output_type": "display_data"
    },
    {
     "name": "stdout",
     "output_type": "stream",
     "text": [
      "\n",
      "predict:  [8 9 9 9 5 7 8 0 7 9]\n",
      "answer:  [5 4 4 7 8 4 4 8 8 4]\n"
     ]
    },
    {
     "data": {
      "image/png": "[encoded data removed]",
      "text/plain": [
       "<PIL.Image.Image image mode=L size=280x28 at 0x1180E7550>"
      ]
     },
     "metadata": {},
     "output_type": "display_data"
    },
    {
     "name": "stdout",
     "output_type": "stream",
     "text": [
      "\n",
      "predict:  [9 9 9 5 7 8 0 7 9 7]\n",
      "answer:  [4 4 7 8 4 4 8 8 4 9]\n"
     ]
    },
    {
     "data": {
      "image/png": "[encoded data removed]",
      "text/plain": [
       "<PIL.Image.Image image mode=L size=280x28 at 0x1180E76D8>"
      ]
     },
     "metadata": {},
     "output_type": "display_data"
    },
    {
     "name": "stdout",
     "output_type": "stream",
     "text": [
      "\n",
      "predict:  [9 9 5 7 8 0 7 9 7 7]\n",
      "answer:  [4 7 8 4 4 8 8 4 9 2]\n"
     ]
    },
    {
     "data": {
      "image/png": "[encoded data removed]",
      "text/plain": [
       "<PIL.Image.Image image mode=L size=280x28 at 0x1180E7320>"
      ]
     },
     "metadata": {},
     "output_type": "display_data"
    },
    {
     "name": "stdout",
     "output_type": "stream",
     "text": [
      "\n",
      "predict:  [9 5 7 8 0 7 9 7 7 5]\n",
      "answer:  [7 8 4 4 8 8 4 9 2 3]\n"
     ]
    },
    {
     "data": {
      "image/png": "[encoded data removed]",
      "text/plain": [
       "<PIL.Image.Image image mode=L size=280x28 at 0x1180E7A20>"
      ]
     },
     "metadata": {},
     "output_type": "display_data"
    },
    {
     "name": "stdout",
     "output_type": "stream",
     "text": [
      "\n",
      "predict:  [5 7 8 0 7 9 7 7 5 0]\n",
      "answer:  [8 4 4 8 8 4 9 2 3 2]\n"
     ]
    },
    {
     "data": {
      "image/png": "[encoded data removed]",
      "text/plain": [
       "<PIL.Image.Image image mode=L size=280x28 at 0x1180E75F8>"
      ]
     },
     "metadata": {},
     "output_type": "display_data"
    },
    {
     "name": "stdout",
     "output_type": "stream",
     "text": [
      "\n",
      "predict:  [7 8 0 7 9 7 7 5 0 9]\n",
      "answer:  [4 4 8 8 4 9 2 3 2 8]\n"
     ]
    },
    {
     "data": {
      "image/png": "[encoded data removed]",
      "text/plain": [
       "<PIL.Image.Image image mode=L size=280x28 at 0x1180E7438>"
      ]
     },
     "metadata": {},
     "output_type": "display_data"
    },
    {
     "name": "stdout",
     "output_type": "stream",
     "text": [
      "\n",
      "predict:  [8 0 7 9 7 7 5 0 9 2]\n",
      "answer:  [4 8 8 4 9 2 3 2 8 7]\n"
     ]
    },
    {
     "data": {
      "image/png": "[encoded data removed]",
      "text/plain": [
       "<PIL.Image.Image image mode=L size=280x28 at 0x1180E7550>"
      ]
     },
     "metadata": {},
     "output_type": "display_data"
    },
    {
     "name": "stdout",
     "output_type": "stream",
     "text": [
      "\n",
      "predict:  [0 7 9 7 7 5 0 9 2 9]\n",
      "answer:  [8 8 4 9 2 3 2 8 7 4]\n"
     ]
    },
    {
     "data": {
      "image/png": "[encoded data removed]",
      "text/plain": [
       "<PIL.Image.Image image mode=L size=280x28 at 0x1180E7D68>"
      ]
     },
     "metadata": {},
     "output_type": "display_data"
    },
    {
     "name": "stdout",
     "output_type": "stream",
     "text": [
      "\n",
      "predict:  [7 9 7 7 5 0 9 2 9 0]\n",
      "answer:  [8 4 9 2 3 2 8 7 4 6]\n"
     ]
    },
    {
     "data": {
      "image/png": "[encoded data removed]",
      "text/plain": [
       "<PIL.Image.Image image mode=L size=280x28 at 0x1180E7A20>"
      ]
     },
     "metadata": {},
     "output_type": "display_data"
    },
    {
     "name": "stdout",
     "output_type": "stream",
     "text": [
      "\n",
      "predict:  [9 7 7 5 0 9 2 9 0 3]\n",
      "answer:  [4 9 2 3 2 8 7 4 6 2]\n"
     ]
    },
    {
     "data": {
      "image/png": "[encoded data removed]",
      "text/plain": [
       "<PIL.Image.Image image mode=L size=280x28 at 0x1180E7EF0>"
      ]
     },
     "metadata": {},
     "output_type": "display_data"
    },
    {
     "name": "stdout",
     "output_type": "stream",
     "text": [
      "\n",
      "predict:  [7 7 5 0 9 2 9 0 3 8]\n",
      "answer:  [9 2 3 2 8 7 4 6 2 5]\n"
     ]
    },
    {
     "data": {
      "image/png": "[encoded data removed]",
      "text/plain": [
       "<PIL.Image.Image image mode=L size=280x28 at 0x1180E76D8>"
      ]
     },
     "metadata": {},
     "output_type": "display_data"
    }
   ],
   "source": [
    "# 抓出所有預測錯誤的\n",
    "pred_v = Y_softmax.eval(feed_dict={X: test_X})\n",
    "pred_v = pd.DataFrame(pred_v).apply(np.argmax,axis=1)\n",
    "pred_r = correct_pred.eval({X: test_X , Y_: test_Y})\n",
    "acc = sess.run(accuracy, feed_dict={X: test_X , Y_: test_Y})\n",
    "\n",
    "pred_v_fail = pred_v[pred_r==False]\n",
    "test_y_fail = test_y[pred_r==False]\n",
    "test_X_fail = test_X[pred_r==False]\n",
    "\n",
    "errorqty = len(pred_v_fail)\n",
    "correctqty = len(pred_v) - errorqty\n",
    "print('Accuracy:',acc, ', ','{f}/{t}'.format(t=correctqty,f=errorqty))\n",
    "\n",
    "show_rownum = int(pred_v_fail.shape[0]/10)\n",
    "for i in range(show_rownum+1):\n",
    "    start=i\n",
    "    end = i+10\n",
    "    print('\\npredict: ',pred_v_fail.values[start:end])\n",
    "    print('answer: ',test_y_fail[start:end])\n",
    "    showX(test_X_fail[start:end])\n"
   ]
  },
  {
   "cell_type": "markdown",
   "metadata": {},
   "source": [
    "<a id='visualization'></a>\n",
    "### Visualization- Tensor Borad"
   ]
  },
  {
   "cell_type": "markdown",
   "metadata": {},
   "source": [
    "** 先把label存到metadata.tsv **"
   ]
  },
  {
   "cell_type": "code",
   "execution_count": 21,
   "metadata": {
    "collapsed": true
   },
   "outputs": [],
   "source": [
    "LOG_DIR = 'tb-log0'\n",
    "input_data = train_X[:5000]\n",
    "input_y = train_y[:5000]\n",
    "\n",
    "if not os.path.exists(LOG_DIR):\n",
    "    os.mkdir(LOG_DIR)\n",
    "#把圖片的label存到metadata.tsv\n",
    "metadata_file_path = os.path.join(LOG_DIR, 'metadata.tsv')\n",
    "with open(metadata_file_path, 'w') as metadata_file:\n",
    "    for row in range(len(input_y)):\n",
    "        c=input_y[row]\n",
    "        metadata_file.write('{}\\n'.format(c))"
   ]
  },
  {
   "cell_type": "markdown",
   "metadata": {},
   "source": [
    "** 把要在tensorboard上呈現的variable embedding存起來 **"
   ]
  },
  {
   "cell_type": "code",
   "execution_count": 28,
   "metadata": {},
   "outputs": [],
   "source": [
    "#Save variable\n",
    "Input_Var = tf.Variable(input_data, name='Input_var')\n",
    "encoded_Var = tf.Variable(encoded.eval({X: input_data}), name='encoded_var')\n",
    "x_reconstruct_Var = tf.Variable(x_reconstruct.eval({X: input_data}), name='x_reconstruct_Var')\n",
    "\n",
    "saver = tf.train.Saver([Input_Var,encoded_Var,x_reconstruct_Var])\n",
    "sess.run(Input_Var.initializer)\n",
    "sess.run(encoded_Var.initializer)\n",
    "sess.run(x_reconstruct_Var.initializer)\n",
    "saver.save(sess, os.path.join(LOG_DIR, 'autoencoder.ckpt'))\n",
    "\n",
    "#在config裡面用一個embedding關聯 tensor & its metadata\n",
    "config = projector.ProjectorConfig()\n",
    "# One can add multiple embeddings.\n",
    "\n",
    "embedding1 = config.embeddings.add()\n",
    "embedding1.tensor_name = Input_Var.name\n",
    "embedding1.metadata_path = metadata_file_path\n",
    "\n",
    "embedding2 = config.embeddings.add()\n",
    "embedding2.tensor_name = encoded_Var.name\n",
    "embedding2.metadata_path = metadata_file_path\n",
    "\n",
    "embedding3 = config.embeddings.add()\n",
    "embedding3.tensor_name = x_reconstruct_Var.name\n",
    "embedding3.metadata_path = metadata_file_path\n",
    "\n",
    "#embedding4 = config.embeddings.add()\n",
    "#embedding4.tensor_name = Out_Var.name\n",
    "#embedding4.metadata_path = metadata_file_path\n",
    "\n",
    "#embedding.sprite.image_path = os.path.join(LOG_DIR, 'img/mnist_10k_sprite.png')\n",
    "# Specify the width and height of a single thumbnail.\n",
    "#embedding.sprite.single_image_dim.extend([28, 28])\n",
    "\n",
    "\n",
    "\n",
    "# Saves a config file that TensorBoard will read during startup.\n",
    "projector.visualize_embeddings(tf.summary.FileWriter(LOG_DIR), config)\n"
   ]
  },
  {
   "cell_type": "code",
   "execution_count": 23,
   "metadata": {
    "collapsed": true
   },
   "outputs": [],
   "source": [
    "#!tensorboard --logdir=tb-log0 --port=6006"
   ]
  },
  {
   "cell_type": "markdown",
   "metadata": {},
   "source": [
    "** epoch 15 **\n",
    "![epoch15](img/ae_emd_op15.png)\n",
    "\n",
    "** epoch 30 **\n",
    "![epoch15](img/ae_emd_op30.png)\n",
    "\n",
    "** epoch 60 **\n",
    "![epoch15](img/ae_emd_op60.png)\n",
    "\n",
    "** epoch 150 **\n",
    "![epoch15](img/ae_emd_op150.png)"
   ]
  },
  {
   "attachments": {},
   "cell_type": "markdown",
   "metadata": {},
   "source": [
    "### 進階應用\n",
    "\n",
    "![](img/autoencoder_3.png)\n",
    "![](img/autoencoder_4.png)"
   ]
  },
  {
   "cell_type": "markdown",
   "metadata": {},
   "source": [
    "### Reference\n",
    "[ML Lecture 13: Unsupervised Learning - Linear Methods](https://www.youtube.com/watch?v=iwh5o_M4BNU)  \n",
    "[ML Lecture 16: Unsupervised Learning - Auto-encoder](https://www.youtube.com/watch?v=Tk5B4seA-AU)  \n",
    "[Tensorflow Day16 Autoencoder 實作](http://ithelp.ithome.com.tw/articles/10188177)  \n",
    "[Hinton's paper Reducing the Dimensionality of Data with Neural Networks](https://www.cs.toronto.edu/~hinton/science.pdf)"
   ]
  }
 ],
 "metadata": {
  "anaconda-cloud": {},
  "kernelspec": {
   "display_name": "Python [conda root]",
   "language": "python",
   "name": "conda-root-py"
  },
  "language_info": {
   "codemirror_mode": {
    "name": "ipython",
    "version": 3
   },
   "file_extension": ".py",
   "mimetype": "text/x-python",
   "name": "python",
   "nbconvert_exporter": "python",
   "pygments_lexer": "ipython3",
   "version": "3.5.3"
  }
 },
 "nbformat": 4,
 "nbformat_minor": 2
}
